{
 "cells": [
  {
   "cell_type": "markdown",
   "metadata": {},
   "source": [
    "# **Chicago Crime Analysis**\n",
    "\n",
    "**Author:** Meg Hutch\n",
    "\n",
    "**Date:** June 7, 2020\n",
    "\n",
    "**Data source:** Data was accessed from [data.cityofchicago](https://data.cityofchicago.org/Public-Safety/Crimes-2001-to-present/ijzp-q8t2). \n",
    "\n",
    "As described on their website:\n",
    "> \"This dataset reflects reported incidents of crime (with the exception of murders where data exists for each victim) that occurred in the City of Chicago from 2001 to present, minus the most recent seven days. Data is extracted from the Chicago Police Department's CLEAR (Citizen Law Enforcement Analysis and Reporting) system.\"\n",
    "\n",
    "In this analysis several machine and deep learning methods are implemented to examine the utility of these advanced analytic methods in predicting crime in the city of Chicago which occured in from January-May of 2020."
   ]
  },
  {
   "cell_type": "code",
   "execution_count": 1,
   "metadata": {},
   "outputs": [],
   "source": [
    "import pandas as pd\n",
    "import numpy as np\n",
    "import matplotlib\n",
    "import matplotlib.pyplot as plt\n",
    "import matplotlib.colors\n",
    "import time\n",
    "from sklearn.preprocessing import LabelEncoder\n",
    "from sklearn.metrics import confusion_matrix, classification_report, roc_curve, roc_auc_score, accuracy_score, auc, precision_recall_fscore_support, f1_score, log_loss\n",
    "from sklearn.linear_model import LogisticRegression\n",
    "from sklearn.ensemble import RandomForestClassifier\n",
    "from sklearn.model_selection import KFold, GridSearchCV\n",
    "from sklearn.neighbors import NearestNeighbors\n",
    "from sklearn.ensemble import RandomForestClassifier\n",
    "from sklearn.feature_selection import SelectFromModel \n",
    "from sklearn.model_selection import StratifiedShuffleSplit\n",
    "from sklearn.model_selection import StratifiedKFold\n",
    "from sklearn.metrics import adjusted_mutual_info_score\n",
    "from sklearn.cluster import KMeans\n",
    "import torch\n",
    "import torch.nn as nn\n",
    "import torch.nn.functional as F\n",
    "import torch.optim as optim\n",
    "from torchvision import datasets, transforms\n",
    "from torch.utils.data import DataLoader\n",
    "from torch.utils.data import TensorDataset"
   ]
  },
  {
   "cell_type": "code",
   "execution_count": 2,
   "metadata": {},
   "outputs": [
    {
     "name": "stderr",
     "output_type": "stream",
     "text": [
      "C:\\Users\\User\\Anaconda3\\lib\\site-packages\\IPython\\core\\interactiveshell.py:3063: DtypeWarning: Columns (21) have mixed types.Specify dtype option on import or set low_memory=False.\n",
      "  interactivity=interactivity, compiler=compiler, result=result)\n"
     ]
    }
   ],
   "source": [
    "crime_df = pd.read_csv(r'C:\\\\Users\\\\User\\\\Box Sync/Projects/Chicago_Crimes/Crimes_-_2001_to_present.csv')"
   ]
  },
  {
   "cell_type": "markdown",
   "metadata": {},
   "source": [
    "# **Methods**"
   ]
  },
  {
   "cell_type": "markdown",
   "metadata": {},
   "source": [
    "### **Data Pre-Processing**\n",
    "\n",
    "Several pre-processing steps were required to work with the data. \n",
    "\n",
    "The dataset was modified as follows:\n",
    "\n",
    "1. Filter for cimes occuring in 2020\n",
    "2. Remove white space from column names\n",
    "3. Concatenate Primary_Type and Description\n",
    "4. Convert Community_Area to type 'object'\n",
    "5. Remove Primary_Type categories that occured < 1000 times\n",
    "6. Remove missing values"
   ]
  },
  {
   "cell_type": "code",
   "execution_count": 3,
   "metadata": {},
   "outputs": [],
   "source": [
    "# Step 1\n",
    "crime_df = crime_df[crime_df['Year'] == 2020]\n",
    "\n",
    "# Step 2\n",
    "crime_df.columns = crime_df.columns.str.replace(' ', '_')\n",
    "\n",
    "# Step 3\n",
    "crime_df[\"Primary_Type_Description\"] = crime_df[\"Primary_Type\"] + \" \" +  crime_df[\"Description\"]\n",
    "\n",
    "# Step 4\n",
    "crime_df['Community_Area'] = crime_df['Community_Area'].astype(object)\n",
    "\n",
    "# Step 5\n",
    "crime_df['freq'] = crime_df.groupby('Primary_Type')['Primary_Type'].transform('count')\n",
    "crime_df = crime_df[crime_df.groupby('Primary_Type').freq.transform(len) > 1000]\n",
    "\n",
    "# Step 6\n",
    "crime_df = crime_df.dropna()"
   ]
  },
  {
   "cell_type": "markdown",
   "metadata": {},
   "source": [
    "After our initial pre-processing step, we see that there are 75,628 crimes and 12 unique crimes that occured from January-June 2020"
   ]
  },
  {
   "cell_type": "code",
   "execution_count": 4,
   "metadata": {},
   "outputs": [
    {
     "name": "stdout",
     "output_type": "stream",
     "text": [
      "Number of Observations: (75628, 24)\n",
      "Number of Unique Crimes: 12\n"
     ]
    }
   ],
   "source": [
    "print('Number of Observations:', crime_df.shape)\n",
    "unique, counts = np.unique(crime_df.Primary_Type, return_counts = True)\n",
    "print('Number of Unique Crimes:',  len(unique))"
   ]
  },
  {
   "cell_type": "markdown",
   "metadata": {},
   "source": [
    "### **Model Preparation**\n",
    "\n",
    "From exporing the data, many columns appear to be collinear to one another, and thus, inlcuding all predictors would be redundant, esecially when we consider the size of the dataset. For example, IURC (Illinois Unifrom Crime Reporting code) is said to be \"Directly linked to the Primary Type and Description\". Simiarly, FBI Code is a variable that describes the type of crime. Because our aim is to predict the type of crime (Primary_Type), we must remove any variables that may leak information about our primary outcome. \n",
    "\n",
    "**Step 1**, shows the data we decided to keep in our preliminary models.\n",
    "\n",
    "1. Select columns of interest - we keep **Primary_Type**, **Arrest**, **Domestic**, **Location_Description**, and **Community_Area**. \n",
    "\n",
    "After selecting our columns of interest, we further divide our dataset into inputs (crime_x) and our output variable (crime_y).\n",
    "\n",
    "2. Create x and y dataframes\n",
    "\n",
    "In **Steps 3 and 4** we process the x and y dataframes appropriately. All inputs in crime_x are one-hot encoded, while crime_y categorical values are recoded as numbers instead. Additonally, we save a list of column names (important for random forest feature selection).\n",
    "3. One-hot encode categorical inputs in crime_x - save column list\n",
    "4. Recode crime_y to convert categorical labels to numeric\n",
    "\n",
    "Next, we format data as arrays and reshape the y set.\n",
    "\n",
    "5. Convert dataframes to arrays and reshape crime_y\n",
    "\n",
    "Lastly, we shuffle and then split our x and y datasets into training and test sets, using a 75/25% split. Additionally, our primary outcome variable, Primary_Type, is stratified to ensure that each class of our outcome is proportionally represented in each dataset. \n",
    "\n",
    "6. Split data into training and testing sets"
   ]
  },
  {
   "cell_type": "code",
   "execution_count": 6,
   "metadata": {},
   "outputs": [
    {
     "name": "stderr",
     "output_type": "stream",
     "text": [
      "C:\\Users\\User\\Anaconda3\\lib\\site-packages\\pandas\\core\\indexing.py:966: SettingWithCopyWarning: \n",
      "A value is trying to be set on a copy of a slice from a DataFrame.\n",
      "Try using .loc[row_indexer,col_indexer] = value instead\n",
      "\n",
      "See the caveats in the documentation: https://pandas.pydata.org/pandas-docs/stable/user_guide/indexing.html#returning-a-view-versus-a-copy\n",
      "  self.obj[item] = s\n",
      "C:\\Users\\User\\Anaconda3\\lib\\site-packages\\pandas\\core\\indexing.py:845: SettingWithCopyWarning: \n",
      "A value is trying to be set on a copy of a slice from a DataFrame.\n",
      "Try using .loc[row_indexer,col_indexer] = value instead\n",
      "\n",
      "See the caveats in the documentation: https://pandas.pydata.org/pandas-docs/stable/user_guide/indexing.html#returning-a-view-versus-a-copy\n",
      "  self.obj[key] = _infer_fill_value(value)\n"
     ]
    },
    {
     "name": "stdout",
     "output_type": "stream",
     "text": [
      "TRAIN: [69714  7928 48593 ... 31234 18461 16908] TEST: [20038 13366  1725 ... 29207 10927 13728]\n"
     ]
    }
   ],
   "source": [
    "# Step 1\n",
    "crime_model = crime_df[['Primary_Type', 'Location_Description', 'Arrest', 'Domestic', 'Community_Area']]\n",
    "\n",
    "# Step 2\n",
    "crime_x = crime_model[['Location_Description', 'Arrest', 'Domestic', 'Community_Area']]\n",
    "crime_y = crime_model[['Primary_Type']]\n",
    "\n",
    "# Step 3\n",
    "crime_x.loc[:, 'Arrest'] = pd.factorize(crime_x['Arrest'])[0].reshape(-1,1)\n",
    "crime_x.loc[:, 'Domestic'] = pd.factorize(crime_x['Domestic'])[0].reshape(-1,1)\n",
    "crime_x = pd.get_dummies(crime_x)\n",
    "crime_x_col_names = list(crime_x.columns.values) \n",
    "\n",
    "# Step 4\n",
    "crime_y.loc[:, 'Primary_Type_Code'] = pd.factorize(crime_y['Primary_Type'])[0].reshape(-1,1)\n",
    "crime_list = crime_y[['Primary_Type', 'Primary_Type_Code']].drop_duplicates()\n",
    "crime_y = crime_y[['Primary_Type_Code']]\n",
    "\n",
    "# Step 5\n",
    "crime_x = np.array(crime_x)\n",
    "crime_y = np.array(crime_y)\n",
    "\n",
    "crime_y = crime_y.reshape(-1)\n",
    "\n",
    "# Step 6\n",
    "sss = StratifiedShuffleSplit(n_splits=1, test_size=0.25, random_state=0)\n",
    "sss.get_n_splits(crime_x, crime_y)\n",
    "\n",
    "for train_index, test_index in sss.split(crime_x, crime_y):\n",
    "    print(\"TRAIN:\", train_index, \"TEST:\", test_index)\n",
    "    X_train, X_test = crime_x[train_index], crime_x[test_index]\n",
    "    y_train, y_test = crime_y[train_index], crime_y[test_index]"
   ]
  },
  {
   "cell_type": "markdown",
   "metadata": {},
   "source": [
    "## **Functions for Models**\n",
    "\n",
    "Functions adapated from: [github.com/geickelb](https://github.com/geickelb/HSIP442_guest_lecture/blob/master/notebooks/modeling.ipynb)"
   ]
  },
  {
   "cell_type": "markdown",
   "metadata": {},
   "source": [
    "### **Logistic Regression**"
   ]
  },
  {
   "cell_type": "markdown",
   "metadata": {},
   "source": [
    "**ROC Curve**\n",
    "\n",
    "This function will print an ROC Curve."
   ]
  },
  {
   "cell_type": "code",
   "execution_count": 8,
   "metadata": {},
   "outputs": [],
   "source": [
    "# View ROC Curve\n",
    "def ez_roc(model, x, y, pos_label=1):\n",
    "    \"\"\"prints a basic Recievor Operator Curve (ROC). \n",
    "\n",
    "    Keyword arguments:\n",
    "    model -- a 'fitted' sklearn model object \n",
    "    x -- predictor matrix (dtype='numpy array', required)\n",
    "    y -- outcome vector (dtype='numpy array', required)\n",
    "    pos_label --binary label considered positive in y  (dtype='int', default=1)\n",
    "    \"\"\"\n",
    "    from sklearn.metrics import roc_curve, auc\n",
    "\n",
    "    model_name=type(model).__name__ # defining model name as the __name__ characteristic held by sklearn models\n",
    "\n",
    "    y_proba = model.predict_proba(x)[:,1]\n",
    "        \n",
    "    fpr, tpr, thresholds = roc_curve(y, y_proba, pos_label=pos_label)\n",
    "    roc_auc = auc(fpr, tpr)\n",
    "    \n",
    "    plt.title('ROC curve')\n",
    "    ax1= plt.plot(fpr, tpr, 'b', label = '%s AUC = %0.3f' % (model_name, roc_auc), linewidth=2)\n",
    "    plt.legend(loc = 'lower right')\n",
    "    plt.plot([0, 1], [0, 1],'r--')\n",
    "    plt.xlim([0, 1])\n",
    "    plt.ylim([0, 1])\n",
    "    plt.ylabel('True Positive Rate')\n",
    "    plt.xlabel('False Positive Rate')\n",
    "    return()"
   ]
  },
  {
   "cell_type": "markdown",
   "metadata": {},
   "source": [
    "**Evaluate Model**\n",
    "\n",
    "This function includes parameters for cross-fold validation and will return a plot of the area under the curve for each test. Additionally, as we are working with a multi-classification problem, we evaluate our logistic regression models with one-vs-one classification."
   ]
  },
  {
   "cell_type": "code",
   "execution_count": 9,
   "metadata": {},
   "outputs": [],
   "source": [
    "def evaluate_model(model, x, y, cv = True):\n",
    "    \"\"\"prints common binary classification evaluation metrics and an ROC curve. \n",
    "\n",
    "    Keyword arguments:\n",
    "    model -- a 'fitted' sklearn model object \n",
    "    x -- predictor matrix (dtype='numpy array', required)\n",
    "    y -- outcome vector (dtype='numpy array', required)\n",
    "    cv -- if True, prints  score from 5-fold crossvalidation (dtype='boolean', default='True')\n",
    "    \"\"\"\n",
    "    import sklearn.metrics\n",
    "    from sklearn.metrics import log_loss, average_precision_score, precision_recall_curve\n",
    "    from sklearn.model_selection import cross_val_score\n",
    "    from sklearn.model_selection import StratifiedKFold\n",
    "\n",
    "    if cv==True:\n",
    "        cv_results= cross_val_score(model, x, y, scoring='roc_auc_ovo_weighted', cv=StratifiedKFold(5))\n",
    "        print(\"across 5 fold cv on trainingset, the model had \\n\", \n",
    "             \"mean auroc: {:0.3f}\".format(np.mean(cv_results)), \"\\n\",\n",
    "             \"std auroc: {:0.3f}\".format(np.std(cv_results))\n",
    "             )\n",
    "\n",
    "        base_cv_score=np.mean(cross_val_score(model, x, y, scoring='roc_auc_ovo_weighted', cv=StratifiedKFold(5)))\n",
    "\n",
    "    print(\"###metrics on provided dataset:###\")\n",
    "    \n",
    "    ##basic model performance\n",
    "    y_hat = model.predict(x) # predicted classes using default 0.5 threshold\n",
    "    y_proba = model.predict_proba(x)[:,] #predicted probabilities\n",
    "    auc=roc_auc_score(y, y_proba, multi_class = 'ovr', average = 'weighted')\n",
    "\n",
    "    print ('the AUC is: {:0.3f}'.format(auc))\n",
    "    \n",
    "    # Modify labels for the classification reports\n",
    "    crime_labels = list(range(0,11))\n",
    "    crime_labels = np.asarray(crime_labels)\n",
    "    \n",
    "    crime_names = crime_list.Primary_Type.tolist()\n",
    "    \n",
    "    print(\"classification report:\\n \", classification_report(y, y_hat, labels = crime_labels, target_names = crime_names, digits=3))\n",
    "\n",
    "    #ez_roc(model, x, y, pos_label = 1) #plotting roc curve\n",
    "    #plt.show()"
   ]
  },
  {
   "cell_type": "markdown",
   "metadata": {},
   "source": [
    "### **Random Forest**\n",
    "\n",
    "This function includes parameters for stratified cross-fold validation and supports code for hyperparameter tuning for a random forest model. Because we are working with a multi-classification problem, we evaluate our logistic regression models with one-vs-one classification."
   ]
  },
  {
   "cell_type": "code",
   "execution_count": 10,
   "metadata": {},
   "outputs": [],
   "source": [
    "def hypertuning_fxn(X, y, nfolds, model , param_grid, scoring = 'roc_auc_ovo_weighted', verbose=True, cv = True, \n",
    "                    return_train_score = True): \n",
    "    \"\"\"function that uses GridSearchCV to test a specified param_grid of hyperparameters and choose the optimal one based on nfolds cross-validation results. \n",
    "\n",
    "    Keyword arguments:\n",
    "    model -- a 'fitted' sklearn model object \n",
    "    X -- predictor matrix (dtype='numpy array', required)\n",
    "    y -- outcome vector (dtype='numpy array', required)\n",
    "    cv -- if True, prints a the roc_auc score from 10-fold crossvalidation (dtype='boolean', default='True')\n",
    "    \"\"\"\n",
    "    \n",
    "    np.random.seed(12345)\n",
    "    \n",
    "    # The scorers can be either be one of the predefined metric strings or a scorer\n",
    "    # callable, like the one returned by make_scorer\n",
    "    #scoring = {'AUC': 'roc_auc_ovr', 'Accuracy': make_scorer(accuracy_score)}\n",
    "\n",
    "    grid_search = GridSearchCV(estimator= model,\n",
    "                                     param_grid=param_grid,\n",
    "                                     cv=StratifiedKFold(nfolds), # stratified k-folds will preserve class balances - this function is what got the rest of the code to work with roc validation\n",
    "                                     scoring=scoring,\n",
    "                                     return_train_score=True,\n",
    "                                     n_jobs = -1)\n",
    "    \n",
    "    #scoring = {'accuracy': 'accuracy', 'auc': 'roc_auc_ovr'}\n",
    "    #scoring = {'AUC': 'roc_auc', 'Accuracy': make_scorer(accuracy_score)}\n",
    "    \n",
    "    #OneVsRestClassifier(grid_search.fit(X, y))   \n",
    "    grid_search.fit(X, y)\n",
    "    print(\" scorer function: {}\".format(scoring))\n",
    "    print(\" ##### CV performance: mean & sd scores #####\")\n",
    "\n",
    "    means = grid_search.cv_results_['mean_test_score']\n",
    "    stds = grid_search.cv_results_['std_test_score']\n",
    "    \n",
    "    print('best cv score: {:0.3f}'.format(grid_search.best_score_))\n",
    "    print('best cv params: ', grid_search.best_params_)\n",
    "\n",
    "    worst_index=np.argmin(grid_search.cv_results_['mean_test_score'])\n",
    "    print('worst cv score: {:0.3f}'.format(grid_search.cv_results_['mean_test_score'][worst_index]))\n",
    "    print('worst cv params: ', grid_search.cv_results_['params'][worst_index])\n",
    "    ##\n",
    "    if verbose==True:\n",
    "        for mean, std, params in zip(means, stds, grid_search.cv_results_['params']):\n",
    "            print(\"%0.3f (+/-%0.03f) for %r\"% (mean, std * 2, params))\n",
    "    \n",
    "    return(grid_search)\n",
    "    #print(grid_search.cv_results_)"
   ]
  },
  {
   "cell_type": "markdown",
   "metadata": {},
   "source": [
    "# **Analyses & Results**"
   ]
  },
  {
   "cell_type": "markdown",
   "metadata": {},
   "source": [
    "### **Descriptives**"
   ]
  },
  {
   "cell_type": "markdown",
   "metadata": {},
   "source": [
    "**Top 10 Crimes**\n",
    "\n",
    "The top 10 crimes within the whole dataset included: \n",
    "\n",
    "1. Theft\n",
    "2. Battery\n",
    "3. Criminal Damage\n",
    "4. Narcotics\n",
    "5. Assault\n",
    "6. Other Offense\n",
    "7. Motor Vehicle Theft\n",
    "8. Deceptive Practice and Robbery.\n",
    "9. \n",
    "10. "
   ]
  },
  {
   "cell_type": "code",
   "execution_count": 11,
   "metadata": {},
   "outputs": [
    {
     "data": {
      "text/plain": [
       "Text(0.5, 1.0, 'Top 10 Crimes')"
      ]
     },
     "execution_count": 11,
     "metadata": {},
     "output_type": "execute_result"
    },
    {
     "data": {
      "image/png": "[encoded data removed]",
      "text/plain": [
       "<Figure size 432x288 with 1 Axes>"
      ]
     },
     "metadata": {
      "needs_background": "light"
     },
     "output_type": "display_data"
    }
   ],
   "source": [
    "crime_df10 = crime_model.Primary_Type.value_counts()\n",
    "crime_df10 = crime_df10.head(10)\n",
    "\n",
    "crime_df10 = pd.DataFrame(crime_df10)\n",
    "\n",
    "plt1 = crime_df10.plot(kind=\"bar\", color = \"tomato\")\n",
    "plt1.tick_params(axis=\"x\", labelsize = 10, labelrotation = 90)\n",
    "plt1.set_title(\"Top 10 Crimes\")"
   ]
  },
  {
   "cell_type": "markdown",
   "metadata": {},
   "source": [
    "**Top 10 Crime Locations**"
   ]
  },
  {
   "cell_type": "code",
   "execution_count": 12,
   "metadata": {},
   "outputs": [
    {
     "data": {
      "text/plain": [
       "Text(0.5, 1.0, 'Top 10 Locations')"
      ]
     },
     "execution_count": 12,
     "metadata": {},
     "output_type": "execute_result"
    },
    {
     "data": {
      "image/png": "[encoded data removed]",
      "text/plain": [
       "<Figure size 432x288 with 1 Axes>"
      ]
     },
     "metadata": {
      "needs_background": "light"
     },
     "output_type": "display_data"
    }
   ],
   "source": [
    "crime_df10 = crime_model.Location_Description.value_counts()\n",
    "crime_df10 = crime_df10.head(10)\n",
    "\n",
    "crime_df10 = pd.DataFrame(crime_df10)\n",
    "\n",
    "plt1 = crime_df10.plot(kind=\"bar\", color = \"tomato\")\n",
    "plt1.tick_params(axis=\"x\", labelsize = 10, labelrotation = 90)\n",
    "plt1.set_title(\"Top 10 Locations\")"
   ]
  },
  {
   "cell_type": "markdown",
   "metadata": {},
   "source": [
    "**Top 10 Communities**"
   ]
  },
  {
   "cell_type": "code",
   "execution_count": 13,
   "metadata": {},
   "outputs": [
    {
     "data": {
      "text/plain": [
       "Text(0.5, 1.0, 'Top 10 Communities')"
      ]
     },
     "execution_count": 13,
     "metadata": {},
     "output_type": "execute_result"
    },
    {
     "data": {
      "image/png": "[encoded data removed]",
      "text/plain": [
       "<Figure size 432x288 with 1 Axes>"
      ]
     },
     "metadata": {
      "needs_background": "light"
     },
     "output_type": "display_data"
    }
   ],
   "source": [
    "crime_df10 = crime_model.Community_Area.value_counts()\n",
    "crime_df10 = crime_df10.head(10)\n",
    "\n",
    "crime_df10 = pd.DataFrame(crime_df10)\n",
    "\n",
    "plt1 = crime_df10.plot(kind=\"bar\", color = \"tomato\")\n",
    "plt1.tick_params(axis=\"x\", labelsize = 10, labelrotation = 90)\n",
    "plt1.set_title(\"Top 10 Communities\")"
   ]
  },
  {
   "cell_type": "markdown",
   "metadata": {},
   "source": [
    "**Domestic**"
   ]
  },
  {
   "cell_type": "code",
   "execution_count": 14,
   "metadata": {},
   "outputs": [
    {
     "data": {
      "text/plain": [
       "Text(0.5, 1.0, 'Top 10 Communities')"
      ]
     },
     "execution_count": 14,
     "metadata": {},
     "output_type": "execute_result"
    },
    {
     "data": {
      "image/png": "[encoded data removed]",
      "text/plain": [
       "<Figure size 432x288 with 1 Axes>"
      ]
     },
     "metadata": {
      "needs_background": "light"
     },
     "output_type": "display_data"
    }
   ],
   "source": [
    "crime_df10 = crime_model.Domestic.value_counts()\n",
    "crime_df10 = crime_df10.head(10)\n",
    "\n",
    "crime_df10 = pd.DataFrame(crime_df10)\n",
    "\n",
    "plt1 = crime_df10.plot(kind=\"bar\", color = \"tomato\")\n",
    "plt1.tick_params(axis=\"x\", labelsize = 10, labelrotation = 90)\n",
    "plt1.set_title(\"Top 10 Communities\")"
   ]
  },
  {
   "cell_type": "markdown",
   "metadata": {},
   "source": [
    "**Domestic Crimes**"
   ]
  },
  {
   "cell_type": "code",
   "execution_count": 15,
   "metadata": {},
   "outputs": [
    {
     "data": {
      "text/plain": [
       "Text(0.5, 1.0, 'Top 10 Communities')"
      ]
     },
     "execution_count": 15,
     "metadata": {},
     "output_type": "execute_result"
    },
    {
     "data": {
      "image/png": "[encoded data removed]",
      "text/plain": [
       "<Figure size 432x288 with 1 Axes>"
      ]
     },
     "metadata": {
      "needs_background": "light"
     },
     "output_type": "display_data"
    }
   ],
   "source": [
    "crime_df10 = crime_model.Domestic.value_counts()\n",
    "crime_df10 = crime_df10.head(10)\n",
    "\n",
    "crime_df10 = pd.DataFrame(crime_df10)\n",
    "\n",
    "plt1 = crime_df10.plot(kind=\"bar\", color = \"tomato\")\n",
    "plt1.tick_params(axis=\"x\", labelsize = 10, labelrotation = 90)\n",
    "plt1.set_title(\"Top 10 Communities\")"
   ]
  },
  {
   "cell_type": "markdown",
   "metadata": {},
   "source": [
    "## **Logistic Regression**\n",
    "\n",
    "Logistic regression was performed with an l2 penality and with solver = 'sag' (Stochastic Average Gradient descent), which can minimize the cost function more quickly for large datasets. Predictions were made using One vs One (OVO) multi-classification which compares each pair-wise class. \n",
    "\n",
    "Through 5-cross fold validation with the training set, our average AUC was 0.797. \n",
    "\n",
    "We also print out a classification report from one of the folds which includes the precision, recall, f1-score, and support (# of samples), for each outcome. We see that outcome 4 (X) had the highest recall (0.700), f1-score (0.502). It however, also had the highest number of observations (46,220). Class 0 (X) had the highest precision (0.538), however a very small recall and f1-score (0.007 and 0.014 respectively). These results make more sense in light of the fact that there were < 1000 observations in this class."
   ]
  },
  {
   "cell_type": "markdown",
   "metadata": {},
   "source": [
    "### **Evaluation of Training Data**"
   ]
  },
  {
   "cell_type": "code",
   "execution_count": 16,
   "metadata": {},
   "outputs": [],
   "source": [
    "# reshape data\n",
    "y_train = y_train.reshape(-1)\n",
    "y_test = y_test.reshape(-1)"
   ]
  },
  {
   "cell_type": "code",
   "execution_count": 17,
   "metadata": {},
   "outputs": [
    {
     "name": "stdout",
     "output_type": "stream",
     "text": [
      "across 5 fold cv on trainingset, the model had \n",
      " mean auroc: 0.797 \n",
      " std auroc: 0.001\n",
      "###metrics on provided dataset:###\n",
      "the AUC is: 0.791\n"
     ]
    },
    {
     "name": "stderr",
     "output_type": "stream",
     "text": [
      "C:\\Users\\User\\Anaconda3\\lib\\site-packages\\sklearn\\metrics\\_classification.py:1989: UserWarning: labels size, 11, does not match size of target_names, 12\n",
      "  .format(len(labels), len(target_names))\n"
     ]
    },
    {
     "name": "stdout",
     "output_type": "stream",
     "text": [
      "classification report:\n",
      "                       precision    recall  f1-score   support\n",
      "\n",
      "              THEFT      0.399     0.708     0.510     12584\n",
      "      OTHER OFFENSE      0.097     0.006     0.012      3847\n",
      "            ASSAULT      0.313     0.010     0.019      5095\n",
      "            BATTERY      0.512     0.657     0.575     12186\n",
      "           BURGLARY      0.361     0.165     0.226      2165\n",
      " DECEPTIVE PRACTICE      0.320     0.402     0.357      3601\n",
      "    CRIMINAL DAMAGE      0.238     0.194     0.213      6718\n",
      "          NARCOTICS      0.493     0.795     0.608      2621\n",
      "  WEAPONS VIOLATION      0.336     0.178     0.233      1934\n",
      "            ROBBERY      0.319     0.117     0.171      2071\n",
      "MOTOR VEHICLE THEFT      0.259     0.068     0.107      2425\n",
      "\n",
      "          micro avg      0.409     0.415     0.412     55247\n",
      "          macro avg      0.332     0.300     0.276     55247\n",
      "       weighted avg      0.362     0.415     0.352     55247\n",
      "\n",
      "Training Time in Minutes: -6.543017141024271\n"
     ]
    }
   ],
   "source": [
    "t1 = time.time()\n",
    "\n",
    "lr = LogisticRegression(penalty='l2', solver='sag', random_state = 12345)\n",
    "#fit model\n",
    "lr.fit(X_train, y_train)\n",
    "#evaluate model (on training data)\n",
    "evaluate_model(lr, X_train, y_train, cv = True)\n",
    "\n",
    "t2 = time.time()\n",
    "\n",
    "run_time = t1 - t2\n",
    "print('Training Time in Minutes:', run_time/60)"
   ]
  },
  {
   "cell_type": "markdown",
   "metadata": {},
   "source": [
    "### **Evaluation of Testing Data**\n",
    "\n",
    "We obtained a final AUC of 0.738 on the testing set. This result is only slightly lower than the average AUC of the training set described above (0.738 vs 0.746). Similarly as to what was reported above, crime 4 (X) had the highest recall (0.71), while crime 0 (X) had the highest precision. We can see through the classification report that our model has a wide range of performance success/failure depending on the outcome of interst. However, when examining outcome 2, 4, and 8 which had the highest recall scores, we can notice that these classes also had the highest number of samples. Interestingly, class 3 and 5, have the fourth and fifth highest number of samples, however, their recalls are 0.001 and 0.080 respectively. "
   ]
  },
  {
   "cell_type": "code",
   "execution_count": 18,
   "metadata": {},
   "outputs": [
    {
     "name": "stdout",
     "output_type": "stream",
     "text": [
      "###metrics on provided dataset:###\n",
      "the AUC is: 0.787\n",
      "classification report:\n",
      "                       precision    recall  f1-score   support\n",
      "\n",
      "              THEFT      0.401     0.706     0.512      4194\n",
      "      OTHER OFFENSE      0.075     0.006     0.012      1282\n",
      "            ASSAULT      0.185     0.006     0.011      1699\n",
      "            BATTERY      0.509     0.660     0.574      4062\n",
      "           BURGLARY      0.331     0.130     0.187       721\n",
      " DECEPTIVE PRACTICE      0.308     0.394     0.346      1201\n",
      "    CRIMINAL DAMAGE      0.210     0.169     0.187      2239\n",
      "          NARCOTICS      0.467     0.761     0.579       874\n",
      "  WEAPONS VIOLATION      0.298     0.161     0.209       645\n",
      "            ROBBERY      0.252     0.091     0.134       690\n",
      "MOTOR VEHICLE THEFT      0.226     0.062     0.097       809\n",
      "\n",
      "          micro avg      0.401     0.406     0.404     18416\n",
      "          macro avg      0.297     0.286     0.259     18416\n",
      "       weighted avg      0.337     0.406     0.342     18416\n",
      "\n"
     ]
    },
    {
     "name": "stderr",
     "output_type": "stream",
     "text": [
      "C:\\Users\\User\\Anaconda3\\lib\\site-packages\\sklearn\\metrics\\_classification.py:1989: UserWarning: labels size, 11, does not match size of target_names, 12\n",
      "  .format(len(labels), len(target_names))\n"
     ]
    }
   ],
   "source": [
    "evaluate_model(lr, X_test, y_test, cv = False)"
   ]
  },
  {
   "cell_type": "markdown",
   "metadata": {},
   "source": [
    "## **Random Forest**\n",
    "\n",
    "1. First, we specify a parameter grid where we explore models by changing a number of parameters including:  max_depth, min_samples_split, and min_samples_leaf\n",
    "\n",
    "2. We then instatiate a RandomForestClassifier with criterion 'entropy'\n",
    "\n",
    "3. We can call the previously defined hypertuning_fxn above, and perform 5 cross-fold valdiation on our crime data. Once again we assess classification performing using one-vs-one. "
   ]
  },
  {
   "cell_type": "markdown",
   "metadata": {},
   "source": [
    "**Reshape y data**"
   ]
  },
  {
   "cell_type": "code",
   "execution_count": 19,
   "metadata": {},
   "outputs": [],
   "source": [
    "y_train = y_train.ravel()\n",
    "y_test = y_test.ravel()"
   ]
  },
  {
   "cell_type": "markdown",
   "metadata": {},
   "source": [
    "### **Set Hyperparameters and Run Models**\n",
    "\n",
    "Our hyperparameter searching identified that the best performing model had a cross-validation score of 0.733 and its parameters were set as follows:\n",
    "\n",
    "```max_depth': 10, 'max_features': 'auto', 'min_samples_leaf': 1, 'min_samples_split': 5, 'n_estimators': 100```"
   ]
  },
  {
   "cell_type": "code",
   "execution_count": 20,
   "metadata": {},
   "outputs": [
    {
     "name": "stdout",
     "output_type": "stream",
     "text": [
      " scorer function: roc_auc_ovo_weighted\n",
      " ##### CV performance: mean & sd scores #####\n",
      "best cv score: 0.789\n",
      "best cv params:  {'max_depth': 10, 'max_features': 'auto', 'min_samples_leaf': 1, 'min_samples_split': 2, 'n_estimators': 100}\n",
      "worst cv score: 0.782\n",
      "worst cv params:  {'max_depth': 5, 'max_features': 'auto', 'min_samples_leaf': 5, 'min_samples_split': 2, 'n_estimators': 100}\n",
      "0.782 (+/-0.002) for {'max_depth': 5, 'max_features': 'auto', 'min_samples_leaf': 1, 'min_samples_split': 2, 'n_estimators': 100}\n",
      "0.782 (+/-0.002) for {'max_depth': 5, 'max_features': 'auto', 'min_samples_leaf': 1, 'min_samples_split': 5, 'n_estimators': 100}\n",
      "0.782 (+/-0.002) for {'max_depth': 5, 'max_features': 'auto', 'min_samples_leaf': 1, 'min_samples_split': 10, 'n_estimators': 100}\n",
      "0.782 (+/-0.003) for {'max_depth': 5, 'max_features': 'auto', 'min_samples_leaf': 5, 'min_samples_split': 2, 'n_estimators': 100}\n",
      "0.782 (+/-0.003) for {'max_depth': 5, 'max_features': 'auto', 'min_samples_leaf': 5, 'min_samples_split': 5, 'n_estimators': 100}\n",
      "0.782 (+/-0.003) for {'max_depth': 5, 'max_features': 'auto', 'min_samples_leaf': 5, 'min_samples_split': 10, 'n_estimators': 100}\n",
      "0.782 (+/-0.002) for {'max_depth': 5, 'max_features': 'auto', 'min_samples_leaf': 10, 'min_samples_split': 2, 'n_estimators': 100}\n",
      "0.782 (+/-0.002) for {'max_depth': 5, 'max_features': 'auto', 'min_samples_leaf': 10, 'min_samples_split': 5, 'n_estimators': 100}\n",
      "0.782 (+/-0.002) for {'max_depth': 5, 'max_features': 'auto', 'min_samples_leaf': 10, 'min_samples_split': 10, 'n_estimators': 100}\n",
      "0.789 (+/-0.002) for {'max_depth': 10, 'max_features': 'auto', 'min_samples_leaf': 1, 'min_samples_split': 2, 'n_estimators': 100}\n",
      "0.789 (+/-0.002) for {'max_depth': 10, 'max_features': 'auto', 'min_samples_leaf': 1, 'min_samples_split': 5, 'n_estimators': 100}\n",
      "0.789 (+/-0.002) for {'max_depth': 10, 'max_features': 'auto', 'min_samples_leaf': 1, 'min_samples_split': 10, 'n_estimators': 100}\n",
      "0.789 (+/-0.002) for {'max_depth': 10, 'max_features': 'auto', 'min_samples_leaf': 5, 'min_samples_split': 2, 'n_estimators': 100}\n",
      "0.789 (+/-0.002) for {'max_depth': 10, 'max_features': 'auto', 'min_samples_leaf': 5, 'min_samples_split': 5, 'n_estimators': 100}\n",
      "0.789 (+/-0.002) for {'max_depth': 10, 'max_features': 'auto', 'min_samples_leaf': 5, 'min_samples_split': 10, 'n_estimators': 100}\n",
      "0.788 (+/-0.002) for {'max_depth': 10, 'max_features': 'auto', 'min_samples_leaf': 10, 'min_samples_split': 2, 'n_estimators': 100}\n",
      "0.788 (+/-0.002) for {'max_depth': 10, 'max_features': 'auto', 'min_samples_leaf': 10, 'min_samples_split': 5, 'n_estimators': 100}\n",
      "0.788 (+/-0.002) for {'max_depth': 10, 'max_features': 'auto', 'min_samples_leaf': 10, 'min_samples_split': 10, 'n_estimators': 100}\n",
      "Training Time in Minutes: -14.299655326207478\n"
     ]
    }
   ],
   "source": [
    "# Number of trees in random forest\n",
    "n_estimators = [100]\n",
    "# Number of features to consider at every split\n",
    "max_features = ['auto'] # 'auto' which is equivalent to sqrt(n_features)\n",
    "# Maximum number of levels in tree\n",
    "max_depth = [5, 10]\n",
    "# Minimum number of samples required to split a node\n",
    "min_samples_split = [2, 5, 10]\n",
    "# Minimum number of samples required at each leaf node\n",
    "min_samples_leaf = [1, 5, 10]\n",
    "\n",
    "param_grid = {'n_estimators': n_estimators,\n",
    "               'max_features': max_features,\n",
    "               'max_depth': max_depth,\n",
    "               'min_samples_split': min_samples_split,\n",
    "               'min_samples_leaf': min_samples_leaf}\n",
    "\n",
    "t1 = time.time()\n",
    "\n",
    "model = RandomForestClassifier(criterion='entropy', random_state=12345)\n",
    "rf_hyper = hypertuning_fxn(X_train, y_train, nfolds = 5, model = model , param_grid = param_grid, scoring = 'roc_auc_ovo_weighted', cv = True, return_train_score = True)\n",
    "\n",
    "t2 = time.time()\n",
    "\n",
    "run_time = t1 - t2\n",
    "print('Training Time in Minutes:', run_time/60)"
   ]
  },
  {
   "cell_type": "markdown",
   "metadata": {},
   "source": [
    "### **Return the Best Estimator**"
   ]
  },
  {
   "cell_type": "code",
   "execution_count": 21,
   "metadata": {},
   "outputs": [
    {
     "name": "stdout",
     "output_type": "stream",
     "text": [
      "RandomForestClassifier(bootstrap=True, ccp_alpha=0.0, class_weight=None,\n",
      "                       criterion='entropy', max_depth=10, max_features='auto',\n",
      "                       max_leaf_nodes=None, max_samples=None,\n",
      "                       min_impurity_decrease=0.0, min_impurity_split=None,\n",
      "                       min_samples_leaf=1, min_samples_split=2,\n",
      "                       min_weight_fraction_leaf=0.0, n_estimators=100,\n",
      "                       n_jobs=None, oob_score=False, random_state=12345,\n",
      "                       verbose=0, warm_start=False)\n"
     ]
    }
   ],
   "source": [
    "print(rf_hyper.best_estimator_)\n",
    "rf = rf_hyper.best_estimator_"
   ]
  },
  {
   "cell_type": "markdown",
   "metadata": {},
   "source": [
    "## **Evaluation of Training Data**\n",
    "\n",
    "On our testing set, our best performing random forest model had an AUC of 0.732. Similar to our logistic regression models, class 4 had the highest recall (0.818). Class 8, had a precision of 0.635 and recall of 0.130, despite having a fairly high number of samples (10,664). Class 12 had the highest precision (0.741). Also, noteworthy, the majority of samples had virtually 0 recall and precision."
   ]
  },
  {
   "cell_type": "code",
   "execution_count": 22,
   "metadata": {},
   "outputs": [
    {
     "name": "stdout",
     "output_type": "stream",
     "text": [
      "###metrics on provided dataset:###\n",
      "the AUC is: 0.788\n",
      "classification report:\n",
      "                       precision    recall  f1-score   support\n",
      "\n",
      "              THEFT      0.307     0.925     0.461     12584\n",
      "      OTHER OFFENSE      0.000     0.000     0.000      3847\n",
      "            ASSAULT      0.000     0.000     0.000      5095\n",
      "            BATTERY      0.531     0.615     0.570     12186\n",
      "           BURGLARY      0.000     0.000     0.000      2165\n",
      " DECEPTIVE PRACTICE      0.734     0.048     0.091      3601\n",
      "    CRIMINAL DAMAGE      0.000     0.000     0.000      6718\n",
      "          NARCOTICS      0.481     0.821     0.606      2621\n",
      "  WEAPONS VIOLATION      0.000     0.000     0.000      1934\n",
      "            ROBBERY      0.000     0.000     0.000      2071\n",
      "MOTOR VEHICLE THEFT      0.000     0.000     0.000      2425\n",
      "\n",
      "          micro avg      0.378     0.388     0.383     55247\n",
      "          macro avg      0.187     0.219     0.157     55247\n",
      "       weighted avg      0.258     0.388     0.265     55247\n",
      "\n",
      "Training Time in Minutes: -0.06125235954920451\n"
     ]
    },
    {
     "name": "stderr",
     "output_type": "stream",
     "text": [
      "C:\\Users\\User\\Anaconda3\\lib\\site-packages\\sklearn\\metrics\\_classification.py:1989: UserWarning: labels size, 11, does not match size of target_names, 12\n",
      "  .format(len(labels), len(target_names))\n",
      "C:\\Users\\User\\Anaconda3\\lib\\site-packages\\sklearn\\metrics\\_classification.py:1272: UndefinedMetricWarning: Precision and F-score are ill-defined and being set to 0.0 in labels with no predicted samples. Use `zero_division` parameter to control this behavior.\n",
      "  _warn_prf(average, modifier, msg_start, len(result))\n"
     ]
    }
   ],
   "source": [
    "t1 = time.time()\n",
    "\n",
    "evaluate_model(rf_hyper.best_estimator_, X_train, y_train, cv=False)\n",
    "\n",
    "t2 = time.time()\n",
    "\n",
    "run_time = t1 - t2\n",
    "print('Training Time in Minutes:', run_time/60)"
   ]
  },
  {
   "cell_type": "markdown",
   "metadata": {},
   "source": [
    "### **Evaluation of Testing Data**\n",
    "\n",
    "Our best performing random forest classifier achieved an AUC of 0.725 on the testing set. Comparing evaluation on the training and testing sets, we can see that our results are fairly similar. "
   ]
  },
  {
   "cell_type": "code",
   "execution_count": 23,
   "metadata": {},
   "outputs": [
    {
     "name": "stdout",
     "output_type": "stream",
     "text": [
      "###metrics on provided dataset:###\n",
      "the AUC is: 0.780\n",
      "classification report:\n",
      "                       precision    recall  f1-score   support\n",
      "\n",
      "              THEFT      0.308     0.924     0.462      4194\n",
      "      OTHER OFFENSE      0.000     0.000     0.000      1282\n",
      "            ASSAULT      0.000     0.000     0.000      1699\n",
      "            BATTERY      0.526     0.620     0.569      4062\n",
      "           BURGLARY      0.000     0.000     0.000       721\n",
      " DECEPTIVE PRACTICE      0.717     0.055     0.102      1201\n",
      "    CRIMINAL DAMAGE      0.000     0.000     0.000      2239\n",
      "          NARCOTICS      0.474     0.793     0.593       874\n",
      "  WEAPONS VIOLATION      0.000     0.000     0.000       645\n",
      "            ROBBERY      0.000     0.000     0.000       690\n",
      "MOTOR VEHICLE THEFT      0.000     0.000     0.000       809\n",
      "\n",
      "          micro avg      0.378     0.388     0.383     18416\n",
      "          macro avg      0.184     0.217     0.157     18416\n",
      "       weighted avg      0.255     0.388     0.266     18416\n",
      "\n"
     ]
    },
    {
     "name": "stderr",
     "output_type": "stream",
     "text": [
      "C:\\Users\\User\\Anaconda3\\lib\\site-packages\\sklearn\\metrics\\_classification.py:1989: UserWarning: labels size, 11, does not match size of target_names, 12\n",
      "  .format(len(labels), len(target_names))\n",
      "C:\\Users\\User\\Anaconda3\\lib\\site-packages\\sklearn\\metrics\\_classification.py:1272: UndefinedMetricWarning: Precision and F-score are ill-defined and being set to 0.0 in labels with no predicted samples. Use `zero_division` parameter to control this behavior.\n",
      "  _warn_prf(average, modifier, msg_start, len(result))\n"
     ]
    }
   ],
   "source": [
    "evaluate_model(rf_hyper.best_estimator_, X_test, y_test, cv = False)"
   ]
  },
  {
   "cell_type": "markdown",
   "metadata": {},
   "source": [
    "### **Feature Importance**"
   ]
  },
  {
   "cell_type": "code",
   "execution_count": 25,
   "metadata": {},
   "outputs": [
    {
     "data": {
      "text/plain": [
       "<matplotlib.axes._subplots.AxesSubplot at 0x20ca77c72b0>"
      ]
     },
     "execution_count": 25,
     "metadata": {},
     "output_type": "execute_result"
    },
    {
     "data": {
      "image/png": "[encoded data removed]",
      "text/plain": [
       "<Figure size 432x288 with 1 Axes>"
      ]
     },
     "metadata": {
      "needs_background": "light"
     },
     "output_type": "display_data"
    }
   ],
   "source": [
    "# create empty list\n",
    "feat_impts = [] \n",
    "# bind all rf estimators for each classifier \n",
    "for clf in rf_hyper.best_estimator_:\n",
    "    feat_impts.append(clf.feature_importances_)\n",
    "\n",
    "# calculate the mean of features across predictors\n",
    "feat = np.mean(feat_impts, axis=0)\n",
    "# create a list of features (predictor names)\n",
    "features = crime_x_col_names\n",
    "# add predictor names to the means\n",
    "feat_importances = pd.Series(feat, index = features)   \n",
    "\n",
    "# plot feature importance for nlargest means \n",
    "feat_importances.nlargest(10).plot(kind='barh')"
   ]
  },
  {
   "cell_type": "markdown",
   "metadata": {},
   "source": [
    "# Deep Learning"
   ]
  },
  {
   "cell_type": "markdown",
   "metadata": {},
   "source": [
    "### **Data Pre-processing for Neural Network**"
   ]
  },
  {
   "cell_type": "code",
   "execution_count": 35,
   "metadata": {},
   "outputs": [],
   "source": [
    "# Create a tensor from Numpy array\n",
    "xb = torch.from_numpy(X_train).float()\n",
    "yb = torch.from_numpy(y_train).float()\n",
    "trainloader = TensorDataset(xb, yb)"
   ]
  },
  {
   "cell_type": "markdown",
   "metadata": {},
   "source": [
    "### **Define Neural Network Architecture**"
   ]
  },
  {
   "cell_type": "code",
   "execution_count": 36,
   "metadata": {},
   "outputs": [],
   "source": [
    "nn_model = nn.Sequential(nn.Linear(213, 100),\n",
    "                          nn.ReLU(),\n",
    "                          nn.Linear(100, 50), \n",
    "                          nn.ReLU(), \n",
    "                          nn.Linear(50, 17))"
   ]
  },
  {
   "cell_type": "markdown",
   "metadata": {},
   "source": [
    "### **Set Neural Network Hyper-parameters**"
   ]
  },
  {
   "cell_type": "code",
   "execution_count": 37,
   "metadata": {},
   "outputs": [],
   "source": [
    "batch_size = 10\n",
    "learning_rate = 0.01\n",
    "optimizer = optim.SGD(nn_model.parameters(), lr = learning_rate)\n",
    "criterion = nn.CrossEntropyLoss()\n",
    "n_epochs = 100\n",
    "trainloader = torch.utils.data.DataLoader(trainloader, batch_size, shuffle = True)"
   ]
  },
  {
   "cell_type": "markdown",
   "metadata": {},
   "source": [
    "### **Evaluation of Training Data**"
   ]
  },
  {
   "cell_type": "code",
   "execution_count": 38,
   "metadata": {},
   "outputs": [
    {
     "name": "stdout",
     "output_type": "stream",
     "text": [
      "Epoch 1/100, Training loss: 2.18814\n",
      "Epoch 2/100, Training loss: 1.87090\n",
      "Epoch 3/100, Training loss: 1.79658\n",
      "Epoch 4/100, Training loss: 1.76360\n",
      "Epoch 5/100, Training loss: 1.74645\n",
      "Epoch 6/100, Training loss: 1.73516\n",
      "Epoch 7/100, Training loss: 1.72680\n",
      "Epoch 8/100, Training loss: 1.71821\n",
      "Epoch 9/100, Training loss: 1.71113\n",
      "Epoch 10/100, Training loss: 1.70459\n",
      "Epoch 11/100, Training loss: 1.69964\n",
      "Epoch 12/100, Training loss: 1.69545\n",
      "Epoch 13/100, Training loss: 1.69143\n",
      "Epoch 14/100, Training loss: 1.68897\n",
      "Epoch 15/100, Training loss: 1.68544\n",
      "Epoch 16/100, Training loss: 1.68216\n",
      "Epoch 17/100, Training loss: 1.68014\n",
      "Epoch 18/100, Training loss: 1.67726\n",
      "Epoch 19/100, Training loss: 1.67578\n",
      "Epoch 20/100, Training loss: 1.67273\n",
      "Epoch 21/100, Training loss: 1.67052\n",
      "Epoch 22/100, Training loss: 1.66876\n",
      "Epoch 23/100, Training loss: 1.66715\n",
      "Epoch 24/100, Training loss: 1.66531\n",
      "Epoch 25/100, Training loss: 1.66296\n",
      "Epoch 26/100, Training loss: 1.66131\n",
      "Epoch 27/100, Training loss: 1.66023\n",
      "Epoch 28/100, Training loss: 1.65853\n",
      "Epoch 29/100, Training loss: 1.65668\n",
      "Epoch 30/100, Training loss: 1.65512\n",
      "Epoch 31/100, Training loss: 1.65330\n",
      "Epoch 32/100, Training loss: 1.65180\n",
      "Epoch 33/100, Training loss: 1.65053\n",
      "Epoch 34/100, Training loss: 1.64941\n",
      "Epoch 35/100, Training loss: 1.64808\n",
      "Epoch 36/100, Training loss: 1.64624\n",
      "Epoch 37/100, Training loss: 1.64514\n",
      "Epoch 38/100, Training loss: 1.64374\n",
      "Epoch 39/100, Training loss: 1.64203\n",
      "Epoch 40/100, Training loss: 1.64121\n",
      "Epoch 41/100, Training loss: 1.63964\n",
      "Epoch 42/100, Training loss: 1.63857\n",
      "Epoch 43/100, Training loss: 1.63664\n",
      "Epoch 44/100, Training loss: 1.63611\n",
      "Epoch 45/100, Training loss: 1.63489\n",
      "Epoch 46/100, Training loss: 1.63345\n",
      "Epoch 47/100, Training loss: 1.63160\n",
      "Epoch 48/100, Training loss: 1.63105\n",
      "Epoch 49/100, Training loss: 1.62929\n",
      "Epoch 50/100, Training loss: 1.62875\n",
      "Epoch 51/100, Training loss: 1.62757\n",
      "Epoch 52/100, Training loss: 1.62614\n",
      "Epoch 53/100, Training loss: 1.62504\n",
      "Epoch 54/100, Training loss: 1.62380\n",
      "Epoch 55/100, Training loss: 1.62209\n",
      "Epoch 56/100, Training loss: 1.62137\n",
      "Epoch 57/100, Training loss: 1.62079\n",
      "Epoch 58/100, Training loss: 1.61977\n",
      "Epoch 59/100, Training loss: 1.61810\n",
      "Epoch 60/100, Training loss: 1.61700\n",
      "Epoch 61/100, Training loss: 1.61575\n",
      "Epoch 62/100, Training loss: 1.61563\n",
      "Epoch 63/100, Training loss: 1.61334\n",
      "Epoch 64/100, Training loss: 1.61290\n",
      "Epoch 65/100, Training loss: 1.61176\n",
      "Epoch 66/100, Training loss: 1.61045\n",
      "Epoch 67/100, Training loss: 1.60937\n",
      "Epoch 68/100, Training loss: 1.60950\n",
      "Epoch 69/100, Training loss: 1.60729\n",
      "Epoch 70/100, Training loss: 1.60680\n",
      "Epoch 71/100, Training loss: 1.60551\n",
      "Epoch 72/100, Training loss: 1.60497\n",
      "Epoch 73/100, Training loss: 1.60371\n",
      "Epoch 74/100, Training loss: 1.60256\n",
      "Epoch 75/100, Training loss: 1.60207\n",
      "Epoch 76/100, Training loss: 1.60109\n",
      "Epoch 77/100, Training loss: 1.59940\n",
      "Epoch 78/100, Training loss: 1.59891\n",
      "Epoch 79/100, Training loss: 1.59812\n",
      "Epoch 80/100, Training loss: 1.59751\n",
      "Epoch 81/100, Training loss: 1.59599\n",
      "Epoch 82/100, Training loss: 1.59541\n",
      "Epoch 83/100, Training loss: 1.59368\n",
      "Epoch 84/100, Training loss: 1.59305\n",
      "Epoch 85/100, Training loss: 1.59289\n",
      "Epoch 86/100, Training loss: 1.59133\n",
      "Epoch 87/100, Training loss: 1.59031\n",
      "Epoch 88/100, Training loss: 1.58963\n",
      "Epoch 89/100, Training loss: 1.58893\n",
      "Epoch 90/100, Training loss: 1.58832\n",
      "Epoch 91/100, Training loss: 1.58760\n",
      "Epoch 92/100, Training loss: 1.58640\n",
      "Epoch 93/100, Training loss: 1.58473\n",
      "Epoch 94/100, Training loss: 1.58453\n",
      "Epoch 95/100, Training loss: 1.58379\n",
      "Epoch 96/100, Training loss: 1.58273\n",
      "Epoch 97/100, Training loss: 1.58165\n",
      "Epoch 98/100, Training loss: 1.58108\n",
      "Epoch 99/100, Training loss: 1.58073\n",
      "Epoch 100/100, Training loss: 1.57958\n",
      "Train Loss (mean) 1.6434927372988486\n",
      "Train Accuracy 41.84738233738763\n",
      "Training time in minutes: -39.215343459447226\n"
     ]
    }
   ],
   "source": [
    "t1 = time.time()\n",
    "\n",
    "# store running loss\n",
    "total_step = len(trainloader)\n",
    "loss_list = []\n",
    "acc_list = []\n",
    "running_loss_res = []\n",
    "\n",
    "for e in range(n_epochs):\n",
    "    # Define running loss as 0\n",
    "    running_loss = 0\n",
    "\n",
    "    # Run the model for each xb, yb in the trainloader.  \n",
    "    for i, (xb, yb) in enumerate(trainloader):\n",
    "        # clear gradients - otherwise they are stored\n",
    "        optimizer.zero_grad()\n",
    "        # Training pass\n",
    "        output = nn_model.forward(xb)\n",
    "        # caluclate loss calculated from the model output compared to the labels\n",
    "        loss = criterion(output, yb.long()) \n",
    "        # backpropagate the loss\n",
    "        loss.backward()\n",
    "        # step function to update the weights\n",
    "        optimizer.step()\n",
    "        # record losses\n",
    "        loss_list.append(loss.item()) \n",
    "        \n",
    "        # Track the accuracy\n",
    "        total = yb.size(0)\n",
    "        _, predicted = torch.max(output.data, 1)\n",
    "        correct = (predicted == yb).sum().item()\n",
    "        acc_list.append((correct /total)*100)\n",
    "\n",
    "        running_loss += loss.item() # loss.item() gets the scalar value held in the loss. \n",
    "        # += function: Adds the running_loss (0) with loss.item and assigns back to running_loss\n",
    "    else:\n",
    "        print(\"Epoch {}/{}, Training loss: {:.5f}\".format(e+1, n_epochs, running_loss/len(trainloader)))\n",
    "        \n",
    "        # append all running_losses\n",
    "        running_loss_res.append(running_loss/len(trainloader))\n",
    "        \n",
    "        \n",
    "t2 = time.time()\n",
    "run_time = t1-t2\n",
    "\n",
    "train_loss = np.mean(running_loss_res)\n",
    "train_accuracy = np.mean(acc_list)\n",
    "\n",
    "print('Train Loss (mean)', train_loss)\n",
    "print('Train Accuracy', train_accuracy)\n",
    "print('Training time in minutes:', run_time/60)"
   ]
  },
  {
   "cell_type": "markdown",
   "metadata": {},
   "source": [
    "### **Plot Training Loss and Accuracy Over Time**"
   ]
  },
  {
   "cell_type": "code",
   "execution_count": 39,
   "metadata": {},
   "outputs": [
    {
     "data": {
      "text/plain": [
       "[<matplotlib.lines.Line2D at 0x20c19ac5da0>]"
      ]
     },
     "execution_count": 39,
     "metadata": {},
     "output_type": "execute_result"
    },
    {
     "data": {
      "image/png": "[encoded data removed]",
      "text/plain": [
       "<Figure size 432x288 with 1 Axes>"
      ]
     },
     "metadata": {
      "needs_background": "light"
     },
     "output_type": "display_data"
    }
   ],
   "source": [
    "%matplotlib inline\n",
    "\n",
    "test = list(range(100)) # number of epochs\n",
    "plt.plot(test, running_loss_res)"
   ]
  },
  {
   "cell_type": "markdown",
   "metadata": {},
   "source": [
    "## **Evaluate the Testing Data**"
   ]
  },
  {
   "cell_type": "code",
   "execution_count": 41,
   "metadata": {},
   "outputs": [
    {
     "name": "stdout",
     "output_type": "stream",
     "text": [
      "Testing Accuracy: 40.16501824721003\n"
     ]
    }
   ],
   "source": [
    "# Convert arrays into tensors\n",
    "xb = torch.from_numpy(X_test).float()\n",
    "yb = torch.from_numpy(y_test).float()\n",
    "\n",
    "# Apply the model to the testing dataset\n",
    "# Thus will enable us to see the predictions for each class\n",
    "ps = nn_model(xb)\n",
    "\n",
    "# Obtain the top prediction\n",
    "top_p, top_class = ps.topk(1, dim=1)\n",
    "\n",
    "# Drop the grad by using detach\n",
    "top_p = top_p.detach().numpy()\n",
    "top_class = top_class.detach().numpy()\n",
    "\n",
    "yb = yb.reshape(-1,1)\n",
    "\n",
    "# convert to integers\n",
    "top_class = top_class.astype(np.int)\n",
    "\n",
    "# convert to dataframe\n",
    "top_class = pd.DataFrame(top_class)\n",
    "yb = np.asarray(yb)\n",
    "yb = pd.DataFrame(yb)\n",
    "\n",
    "# change column names\n",
    "top_class.columns = [\"Predicted\"]\n",
    "yb.columns = [\"True Label\"]\n",
    "\n",
    "results = pd.merge(top_class, yb, left_index=True, right_index=True)\n",
    "\n",
    "results['Accurate'] = np.where(results['Predicted']==results['True Label'], 1, 0)\n",
    "\n",
    "print('Testing Accuracy:', sum(results.Accurate)/len(results)*100)"
   ]
  },
  {
   "cell_type": "markdown",
   "metadata": {},
   "source": [
    "# K-Nearest-Neighbors"
   ]
  },
  {
   "cell_type": "code",
   "execution_count": null,
   "metadata": {},
   "outputs": [],
   "source": [
    "# two neighbors will bring the point itself, and then its next nearest neighbor\n",
    "neighbors = NearestNeighbors(n_neighbors = 2).fit()\n",
    "\n",
    "print(neighbors.head(10))\n",
    "\n",
    "# rebind the true labels for the test sets\n",
    "# convert list to dataframe?\n",
    "#neigh_df = pd.DataFrame(n)"
   ]
  },
  {
   "cell_type": "markdown",
   "metadata": {},
   "source": [
    "# K-means Clustering"
   ]
  },
  {
   "cell_type": "markdown",
   "metadata": {},
   "source": [
    "### **Cluster by Crime**"
   ]
  },
  {
   "cell_type": "code",
   "execution_count": null,
   "metadata": {},
   "outputs": [],
   "source": [
    "from sklearn.cluster import KMeans\n",
    "from sklearn.metrics import adjusted_mutual_info_score\n",
    "\n",
    "kmeans = KMeans(n_clusters = 17, init= 'k-means++', n_init = 10, random_state=0)\n",
    "kmeans.fit(X_train)\n",
    "k_labs = kmeans.labels_\n",
    "preds = kmeans.predict(X_test)\n",
    "\n",
    "print(adjusted_mutual_info(preds, y_test))"
   ]
  },
  {
   "cell_type": "markdown",
   "metadata": {},
   "source": [
    "### **Cluster by Location**"
   ]
  },
  {
   "cell_type": "code",
   "execution_count": null,
   "metadata": {},
   "outputs": [],
   "source": [
    "kmeans = KMeans(n_clusters = 17, init= 'k-means++', n_init = 10, random_state=0)\n",
    "kmeans.fit(X_train)\n",
    "k_labs = kmeans.labels_\n",
    "preds = kmeans.predict(X_test)\n",
    "\n",
    "print(adjusted_mutual_info(preds, y_test))"
   ]
  },
  {
   "cell_type": "markdown",
   "metadata": {},
   "source": [
    "# Conclusions\n",
    "\n",
    "In our analysis we found....\n",
    "\n",
    "Compare all results...can I make a nice table with these even if I import it into the notebook?\n",
    "\n",
    "**Maybe re-look at primary type description?**"
   ]
  },
  {
   "cell_type": "markdown",
   "metadata": {},
   "source": [
    "## Potential Impact\n",
    "\n",
    "This analysis benefits our understanding of where crimes are most likely to occur. Results from predictive models that can analyze data retrospectively, can be later used to prospectively motitor high-risk locations for specific crimes and faciliate implementation of protective measures. "
   ]
  },
  {
   "cell_type": "markdown",
   "metadata": {},
   "source": [
    "## Limitations\n",
    "\n",
    "This analysis only analyzes crimes that occured in the first half of 2020, however, the full dataset includes crimes from 2001-Present. Thus, while our analysis may be more representative due to recent crimes, it is likely that our model would improve by including more data from past years. Additionally, this analysis did little hyperparameter tuning and thus, while our models were fairly strong, it is likely that may improve with more rigourous testing. "
   ]
  },
  {
   "cell_type": "markdown",
   "metadata": {},
   "source": [
    "## Next Steps\n",
    "\n",
    "* Include data from 2001 through 2019\n",
    "    - Can research the implementation of parallel processing to speed up data pre-processing and analysis\n",
    "* Evaluate models after rigourous hyperparameter tuning\n",
    "* Use machine and deep learning methods to identify which crimes/locations are harder to predict\n",
    "* Utalizing advanced neural network models such as Recurrent Neural Networks that can better delineate the trajectory of certain crimes overtime and perhaps seasonally, ie: is theft more likely to occur in winter months?"
   ]
  }
 ],
 "metadata": {
  "kernelspec": {
   "display_name": "Python 3",
   "language": "python",
   "name": "python3"
  },
  "language_info": {
   "codemirror_mode": {
    "name": "ipython",
    "version": 3
   },
   "file_extension": ".py",
   "mimetype": "text/x-python",
   "name": "python",
   "nbconvert_exporter": "python",
   "pygments_lexer": "ipython3",
   "version": "3.7.1"
  }
 },
 "nbformat": 4,
 "nbformat_minor": 4
}
