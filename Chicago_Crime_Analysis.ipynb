{
 "cells": [
  {
   "cell_type": "markdown",
   "metadata": {},
   "source": [
    "# **Chicago Crime Analysis**\n",
    "\n",
    "**Author:** Meg Hutch\n",
    "\n",
    "**Date:** June 7, 2020\n",
    "\n",
    "**Data source:** Data was accessed from [data.cityofchicago](https://data.cityofchicago.org/Public-Safety/Crimes-2001-to-present/ijzp-q8t2). \n",
    "\n",
    "As described on their website:\n",
    "> \"This dataset reflects reported incidents of crime (with the exception of murders where data exists for each victim) that occurred in the City of Chicago from 2001 to present, minus the most recent seven days. Data is extracted from the Chicago Police Department's CLEAR (Citizen Law Enforcement Analysis and Reporting) system.\"\n",
    "\n",
    "In this analysis several machine and deep learning methods are implemented to examine the utility of these advanced analytic methods in predicting crime in the city of Chicago which occured in 2019."
   ]
  },
  {
   "cell_type": "code",
   "execution_count": 1,
   "metadata": {},
   "outputs": [],
   "source": [
    "import pandas as pd\n",
    "import numpy as np\n",
    "import matplotlib\n",
    "import matplotlib.pyplot as plt\n",
    "import matplotlib.colors\n",
    "import time\n",
    "from sklearn.preprocessing import LabelEncoder\n",
    "from sklearn.metrics import confusion_matrix, classification_report, roc_curve, roc_auc_score, accuracy_score, auc, precision_recall_fscore_support, f1_score, log_loss\n",
    "from sklearn.linear_model import LogisticRegression\n",
    "from sklearn.ensemble import RandomForestClassifier\n",
    "from sklearn.model_selection import KFold, GridSearchCV\n",
    "from sklearn.neighbors import NearestNeighbors\n",
    "from sklearn.ensemble import RandomForestClassifier\n",
    "from sklearn.feature_selection import SelectFromModel \n",
    "from sklearn.model_selection import StratifiedShuffleSplit\n",
    "from sklearn.model_selection import StratifiedKFold\n",
    "from sklearn.metrics import adjusted_mutual_info_score\n",
    "from sklearn.cluster import KMeans\n",
    "import torch\n",
    "import torch.nn as nn\n",
    "import torch.nn.functional as F\n",
    "import torch.optim as optim\n",
    "from torchvision import datasets, transforms\n",
    "from torch.utils.data import DataLoader\n",
    "from torch.utils.data import TensorDataset"
   ]
  },
  {
   "cell_type": "code",
   "execution_count": 110,
   "metadata": {},
   "outputs": [
    {
     "name": "stderr",
     "output_type": "stream",
     "text": [
      "C:\\Users\\User\\Anaconda3\\lib\\site-packages\\IPython\\core\\interactiveshell.py:3063: DtypeWarning: Columns (21) have mixed types.Specify dtype option on import or set low_memory=False.\n",
      "  interactivity=interactivity, compiler=compiler, result=result)\n"
     ]
    }
   ],
   "source": [
    "crime_df = pd.read_csv(r'C:\\\\Users\\\\User\\\\Box Sync/Projects/Chicago_Crimes/Crimes_-_2001_to_present.csv')"
   ]
  },
  {
   "cell_type": "markdown",
   "metadata": {},
   "source": [
    "# **Methods**"
   ]
  },
  {
   "cell_type": "markdown",
   "metadata": {},
   "source": [
    "### **Data Pre-Processing**\n",
    "\n",
    "Several pre-processing steps were required to work with the data. \n",
    "\n",
    "We modified the dataset as follows:\n",
    "\n",
    "1. Filter for cimes occuring in 2020\n",
    "2. Remove white space from column names\n",
    "3. Concatenate Primary_Type and Description\n",
    "4. Convert Year and Community_Area to type 'object'\n",
    "5. Remove Primary_Type categories that occured < 1000 times\n",
    "6. Remove missing values"
   ]
  },
  {
   "cell_type": "code",
   "execution_count": 111,
   "metadata": {},
   "outputs": [],
   "source": [
    "# Step 1\n",
    "crime_df = crime_df[crime_df['Year'] == 2020]\n",
    "\n",
    "# Step 2\n",
    "crime_df.columns = crime_df.columns.str.replace(' ', '_')\n",
    "\n",
    "# Step 3\n",
    "crime_df[\"Primary_Type_Description\"] = crime_df[\"Primary_Type\"] + \" \" +  crime_df[\"Description\"]\n",
    "\n",
    "# Step 4\n",
    "crime_df['Year'] = crime_df['Year'].astype(object)\n",
    "crime_df['Community_Area'] = crime_df['Community_Area'].astype(object)\n",
    "\n",
    "# Step 5\n",
    "crime_df['freq'] = crime_df.groupby('Primary_Type')['Primary_Type'].transform('count')\n",
    "crime_df = crime_df[crime_df.groupby('Primary_Type').freq.transform(len) > 1000]\n",
    "\n",
    "# Step 6\n",
    "crime_df = crime_df.dropna()"
   ]
  },
  {
   "cell_type": "markdown",
   "metadata": {},
   "source": [
    "After our initial pre-processing step, we see that there are 253,917 crimes and 17 unique crimes that occured over the course of 2019"
   ]
  },
  {
   "cell_type": "code",
   "execution_count": 112,
   "metadata": {},
   "outputs": [
    {
     "name": "stdout",
     "output_type": "stream",
     "text": [
      "Number of Observations: (253917, 24)\n",
      "Number of Unique Crimes: 17\n"
     ]
    }
   ],
   "source": [
    "print('Number of Observations:', crime_df.shape)\n",
    "unique, counts = np.unique(crime_df.Primary_Type, return_counts = True)\n",
    "print('Number of Unique Crimes:',  len(unique))"
   ]
  },
  {
   "cell_type": "markdown",
   "metadata": {},
   "source": [
    "### **Model Preparation**\n",
    "\n",
    "From exporing the data, many columns appear to be collinear to one another, and thus, inlcuding all predictors would be redundant, esecially when we consider the size of the dataset. For example, IURC (Illinois Unifrom Crime Reporting code) is said to be \"Directly linked to the Primary Type and Description\". Simiarly, FBI Code is a variable that describes the type of crime. Because our aim is to predict the type of crime (Primary_Type), we must remove any variables that may leak information about our primary outcome. \n",
    "\n",
    "**Step 1**, shows the data we decided to keep in our preliminary models.\n",
    "\n",
    "1. Select columns of interest - we keep **Primary_Type**, **Location_Description**, and **Community_Area**. \n",
    "\n",
    "After selecting our columns of interest, we further divide our dataset into inputs (crime_x) and our output variable (crime_y).\n",
    "\n",
    "2. Create x and y dataframes\n",
    "\n",
    "In **Steps 3 and 4** we process the x and y dataframes appropriately. All inputs in crime_x are one-hot encoded, while crime_y categorical values are recoded as numbers instead. Additonally, we save a list of column names (important for random forest feature selection).\n",
    "3. One-hot encode categorical inputs in crime_x - save column list\n",
    "4. Recode crime_y to convert categorical labels to numeric \n",
    "\n",
    "Next, we format data as arrays and reshape the y set.\n",
    "\n",
    "5. Convert dataframes to arrays and reshape crime_y\n",
    "\n",
    "Lastly, we shuffle and then split our x and y datasets into training and test sets, using a 75/25% split. Additionally, our primary outcome variable, Primary_Type, is stratified to ensure that each class of our outcome is proportionally represented in each dataset. \n",
    "\n",
    "6. Split data into training and testing sets"
   ]
  },
  {
   "cell_type": "code",
   "execution_count": 113,
   "metadata": {},
   "outputs": [
    {
     "name": "stderr",
     "output_type": "stream",
     "text": [
      "C:\\Users\\User\\Anaconda3\\lib\\site-packages\\pandas\\core\\indexing.py:1048: SettingWithCopyWarning: \n",
      "A value is trying to be set on a copy of a slice from a DataFrame.\n",
      "Try using .loc[row_indexer,col_indexer] = value instead\n",
      "\n",
      "See the caveats in the documentation: https://pandas.pydata.org/pandas-docs/stable/user_guide/indexing.html#returning-a-view-versus-a-copy\n",
      "  self.obj[item_labels[indexer[info_axis]]] = value\n"
     ]
    },
    {
     "name": "stdout",
     "output_type": "stream",
     "text": [
      "TRAIN: [216672 197004  69363 ...  93958 202098  21907] TEST: [ 69014 221500  87887 ... 180517  50108  90883]\n"
     ]
    }
   ],
   "source": [
    "# Step 1\n",
    "crime_model = crime_df[['Primary_Type', 'Location_Description', 'Beat', 'Arrest', 'Community_Area']]\n",
    "\n",
    "# Step 2\n",
    "crime_x = crime_model[['Location_Description', 'Year', 'Community_Area']]\n",
    "crime_y = crime_model[['Primary_Type']]\n",
    "\n",
    "# Step 3\n",
    "crime_x = pd.get_dummies(crime_x)\n",
    "crime_x_col_names = list(crime_x.columns.values) \n",
    "\n",
    "# Step 4\n",
    "crime_y.loc[:, 'Primary_Type'] = pd.factorize(crime_y['Primary_Type'])[0].reshape(-1,1)\n",
    "\n",
    "# Step 5\n",
    "crime_x = np.array(crime_x)\n",
    "crime_y = np.array(crime_y)\n",
    "\n",
    "crime_y = crime_y.reshape(-1)\n",
    "\n",
    "# Step 6\n",
    "sss = StratifiedShuffleSplit(n_splits=1, test_size=0.25, random_state=0)\n",
    "sss.get_n_splits(crime_x, crime_y)\n",
    "\n",
    "for train_index, test_index in sss.split(crime_x, crime_y):\n",
    "    print(\"TRAIN:\", train_index, \"TEST:\", test_index)\n",
    "    X_train, X_test = crime_x[train_index], crime_x[test_index]\n",
    "    y_train, y_test = crime_y[train_index], crime_y[test_index]"
   ]
  },
  {
   "cell_type": "markdown",
   "metadata": {},
   "source": [
    "## **Functions for Models**\n",
    "\n",
    "Functions adapated from: [github.com/geickelb](https://github.com/geickelb/HSIP442_guest_lecture/blob/master/notebooks/modeling.ipynb)"
   ]
  },
  {
   "cell_type": "markdown",
   "metadata": {},
   "source": [
    "### **Logistic Regression**"
   ]
  },
  {
   "cell_type": "markdown",
   "metadata": {},
   "source": [
    "**ROC Curve**\n",
    "\n",
    "This function will print an ROC Curve."
   ]
  },
  {
   "cell_type": "code",
   "execution_count": 7,
   "metadata": {},
   "outputs": [],
   "source": [
    "# View ROC Curve\n",
    "def ez_roc(model, x, y, pos_label=1):\n",
    "    \"\"\"prints a basic Recievor Operator Curve (ROC). \n",
    "\n",
    "    Keyword arguments:\n",
    "    model -- a 'fitted' sklearn model object \n",
    "    x -- predictor matrix (dtype='numpy array', required)\n",
    "    y -- outcome vector (dtype='numpy array', required)\n",
    "    pos_label --binary label considered positive in y  (dtype='int', default=1)\n",
    "    \"\"\"\n",
    "    from sklearn.metrics import roc_curve, auc\n",
    "\n",
    "    model_name=type(model).__name__ # defining model name as the __name__ characteristic held by sklearn models\n",
    "\n",
    "    y_proba = model.predict_proba(x)[:,1]\n",
    "        \n",
    "    fpr, tpr, thresholds = roc_curve(y, y_proba, pos_label=pos_label)\n",
    "    roc_auc = auc(fpr, tpr)\n",
    "    \n",
    "    plt.title('ROC curve')\n",
    "    ax1= plt.plot(fpr, tpr, 'b', label = '%s AUC = %0.3f' % (model_name, roc_auc), linewidth=2)\n",
    "    plt.legend(loc = 'lower right')\n",
    "    plt.plot([0, 1], [0, 1],'r--')\n",
    "    plt.xlim([0, 1])\n",
    "    plt.ylim([0, 1])\n",
    "    plt.ylabel('True Positive Rate')\n",
    "    plt.xlabel('False Positive Rate')\n",
    "    return()"
   ]
  },
  {
   "cell_type": "markdown",
   "metadata": {},
   "source": [
    "**Evaluate Model**\n",
    "\n",
    "This function includes parameters for cross-fold validation and will return a plot of the area under the curve for each test. Additionally, as we are working with a multi-classification problem, we evaluate our logistic regression models with one-vs-one classification."
   ]
  },
  {
   "cell_type": "code",
   "execution_count": 13,
   "metadata": {},
   "outputs": [],
   "source": [
    "def evaluate_model(model, x, y, cv = True):\n",
    "    \"\"\"prints common binary classification evaluation metrics and an ROC curve. \n",
    "\n",
    "    Keyword arguments:\n",
    "    model -- a 'fitted' sklearn model object \n",
    "    x -- predictor matrix (dtype='numpy array', required)\n",
    "    y -- outcome vector (dtype='numpy array', required)\n",
    "    cv -- if True, prints  score from 5-fold crossvalidation (dtype='boolean', default='True')\n",
    "    \"\"\"\n",
    "    import sklearn.metrics\n",
    "    from sklearn.metrics import log_loss, average_precision_score, precision_recall_curve\n",
    "    from sklearn.model_selection import cross_val_score\n",
    "    from sklearn.model_selection import StratifiedKFold\n",
    "\n",
    "    if cv==True:\n",
    "        cv_results= cross_val_score(model, x, y, scoring='roc_auc_ovo_weighted', cv=StratifiedKFold(5))\n",
    "        print(\"across 5 fold cv on trainingset, the model had \\n\", \n",
    "             \"mean auroc: {:0.3f}\".format(np.mean(cv_results)), \"\\n\",\n",
    "             \"std auroc: {:0.3f}\".format(np.std(cv_results))\n",
    "             )\n",
    "\n",
    "        base_cv_score=np.mean(cross_val_score(model, x, y, scoring='roc_auc_ovo_weighted', cv=StratifiedKFold(5)))\n",
    "\n",
    "    print(\"###metrics on provided dataset:###\")\n",
    "    \n",
    "    ##basic model performance\n",
    "    y_hat = model.predict(x) # predicted classes using default 0.5 threshold\n",
    "    y_proba = model.predict_proba(x)[:,] #predicted probabilities\n",
    "    auc=roc_auc_score(y, y_proba, multi_class = 'ovr', average = 'weighted')\n",
    "\n",
    "    print ('the AUC is: {:0.3f}'.format(auc))\n",
    "    print(\"classification report:\\n \", classification_report(y, y_hat, digits=3))\n",
    "\n",
    "    #ez_roc(model, x, y, pos_label = 1) #plotting roc curve\n",
    "    #plt.show()"
   ]
  },
  {
   "cell_type": "markdown",
   "metadata": {},
   "source": [
    "### **Random Forest**\n",
    "\n",
    "This function includes parameters for stratified cross-fold validation and supports code for hyperparameter tuning for a random forest model. Because we are working with a multi-classification problem, we evaluate our logistic regression models with one-vs-one classification."
   ]
  },
  {
   "cell_type": "code",
   "execution_count": 9,
   "metadata": {},
   "outputs": [],
   "source": [
    "def hypertuning_fxn(X, y, nfolds, model , param_grid, scoring = 'roc_auc_ovo_weighted', verbose=True, cv = True, \n",
    "                    return_train_score = True): \n",
    "    \"\"\"function that uses GridSearchCV to test a specified param_grid of hyperparameters and choose the optimal one based on nfolds cross-validation results. \n",
    "\n",
    "    Keyword arguments:\n",
    "    model -- a 'fitted' sklearn model object \n",
    "    X -- predictor matrix (dtype='numpy array', required)\n",
    "    y -- outcome vector (dtype='numpy array', required)\n",
    "    cv -- if True, prints a the roc_auc score from 10-fold crossvalidation (dtype='boolean', default='True')\n",
    "    \"\"\"\n",
    "    \n",
    "    np.random.seed(12345)\n",
    "    \n",
    "    # The scorers can be either be one of the predefined metric strings or a scorer\n",
    "    # callable, like the one returned by make_scorer\n",
    "    #scoring = {'AUC': 'roc_auc_ovr', 'Accuracy': make_scorer(accuracy_score)}\n",
    "\n",
    "    grid_search = GridSearchCV(estimator= model,\n",
    "                                     param_grid=param_grid,\n",
    "                                     cv=StratifiedKFold(nfolds), # stratified k-folds will preserve class balances - this function is what got the rest of the code to work with roc validation\n",
    "                                     scoring=scoring,\n",
    "                                     return_train_score=True,\n",
    "                                     n_jobs = -1)\n",
    "    \n",
    "    #scoring = {'accuracy': 'accuracy', 'auc': 'roc_auc_ovr'}\n",
    "    #scoring = {'AUC': 'roc_auc', 'Accuracy': make_scorer(accuracy_score)}\n",
    "    \n",
    "    #OneVsRestClassifier(grid_search.fit(X, y))   \n",
    "    grid_search.fit(X, y)\n",
    "    print(\" scorer function: {}\".format(scoring))\n",
    "    print(\" ##### CV performance: mean & sd scores #####\")\n",
    "\n",
    "    means = grid_search.cv_results_['mean_test_score']\n",
    "    stds = grid_search.cv_results_['std_test_score']\n",
    "    \n",
    "    print('best cv score: {:0.3f}'.format(grid_search.best_score_))\n",
    "    print('best cv params: ', grid_search.best_params_)\n",
    "\n",
    "    worst_index=np.argmin(grid_search.cv_results_['mean_test_score'])\n",
    "    print('worst cv score: {:0.3f}'.format(grid_search.cv_results_['mean_test_score'][worst_index]))\n",
    "    print('worst cv params: ', grid_search.cv_results_['params'][worst_index])\n",
    "    ##\n",
    "    if verbose==True:\n",
    "        for mean, std, params in zip(means, stds, grid_search.cv_results_['params']):\n",
    "            print(\"%0.3f (+/-%0.03f) for %r\"% (mean, std * 2, params))\n",
    "    \n",
    "    return(grid_search)\n",
    "    #print(grid_search.cv_results_)"
   ]
  },
  {
   "cell_type": "markdown",
   "metadata": {},
   "source": [
    "# **Analyses & Results**"
   ]
  },
  {
   "cell_type": "markdown",
   "metadata": {},
   "source": [
    "### **Descriptives**"
   ]
  },
  {
   "cell_type": "markdown",
   "metadata": {},
   "source": [
    "**Top 10 Crimes**\n",
    "\n",
    "The top 10 crimes within the whole dataset included: \n",
    "\n",
    "1. Theft\n",
    "2. Battery\n",
    "3. Criminal Damage\n",
    "4. Narcotics\n",
    "5. Assault\n",
    "6. Other Offense\n",
    "7. Motor Vehicle Theft\n",
    "8. Deceptive Practice and Robbery.\n",
    "9. \n",
    "10. "
   ]
  },
  {
   "cell_type": "code",
   "execution_count": null,
   "metadata": {},
   "outputs": [],
   "source": [
    "crime_df10 = crime_df.Primary_Type.value_counts()\n",
    "crime_df10 = crime_df10.head(10)\n",
    "\n",
    "crime_df10 = pd.DataFrame(crime_df10)\n",
    "\n",
    "plt1 = crime_df10.plot(kind=\"bar\", color = \"tomato\")\n",
    "plt1.tick_params(axis=\"x\", labelsize = 10, labelrotation = 90)\n",
    "plt1.set_title(\"Top 10 Crimes\")"
   ]
  },
  {
   "cell_type": "code",
   "execution_count": null,
   "metadata": {},
   "outputs": [],
   "source": [
    "crime_df.Description.value_counts()\n",
    "crime_df.Primary_Type.value_counts() # much more descrition types"
   ]
  },
  {
   "cell_type": "code",
   "execution_count": null,
   "metadata": {},
   "outputs": [],
   "source": [
    "crime_desc10 = crime_df.Description.value_counts()\n",
    "crime_desc10 = crime_desc10.head(10)\n",
    "\n",
    "crime_desc10 = pd.DataFrame(crime_desc10)\n",
    "\n",
    "plt1 = crime_desc10.plot(kind=\"bar\", color = \"tomato\")\n",
    "plt1.tick_params(axis=\"x\", labelsize = 10, labelrotation = 90)\n",
    "plt1.set_title(\"Top 10 Crime Descriptions (Overall)\")"
   ]
  },
  {
   "cell_type": "markdown",
   "metadata": {},
   "source": [
    "**Top 10 Crimes and Descriptions**"
   ]
  },
  {
   "cell_type": "code",
   "execution_count": null,
   "metadata": {},
   "outputs": [],
   "source": [
    "crime_df10 = crime_df.Primary_Type_Description.value_counts()\n",
    "crime_df10 = crime_df10.head(10)\n",
    "\n",
    "crime_df10 = pd.DataFrame(crime_df10)\n",
    "\n",
    "plt1 = crime_df10.plot(kind=\"bar\", color = \"tomato\")\n",
    "plt1.tick_params(axis=\"x\", labelsize = 10, labelrotation = 85)\n",
    "plt1.set_title(\"Top 10 Primary Crimes & Descriptions\")"
   ]
  },
  {
   "cell_type": "markdown",
   "metadata": {},
   "source": [
    "**Top 10 Crime Locations**"
   ]
  },
  {
   "cell_type": "code",
   "execution_count": null,
   "metadata": {},
   "outputs": [],
   "source": [
    "crime_df10 = crime_df.Location_Description.value_counts()\n",
    "crime_df10 = crime_df10.head(10)\n",
    "\n",
    "crime_df10 = pd.DataFrame(crime_df10)\n",
    "\n",
    "plt1 = crime_df10.plot(kind=\"bar\", color = \"tomato\")\n",
    "plt1.tick_params(axis=\"x\", labelsize = 10, labelrotation = 90)\n",
    "plt1.set_title(\"Top 10 Locations\")"
   ]
  },
  {
   "cell_type": "markdown",
   "metadata": {},
   "source": [
    "**Top 10 Districts**\n",
    "\n",
    "**Where do these map to?**"
   ]
  },
  {
   "cell_type": "code",
   "execution_count": null,
   "metadata": {},
   "outputs": [],
   "source": [
    "crime_df10 = crime_df.District.value_counts()\n",
    "crime_df10 = crime_df10.head(10)\n",
    "\n",
    "crime_df10 = pd.DataFrame(crime_df10)\n",
    "\n",
    "plt1 = crime_df10.plot(kind=\"bar\", color = \"tomato\")\n",
    "plt1.tick_params(axis=\"x\", labelsize = 10, labelrotation = 90)\n",
    "plt1.set_title(\"Top 10 Districts\")"
   ]
  },
  {
   "cell_type": "markdown",
   "metadata": {},
   "source": [
    "**Top 10 Communities**"
   ]
  },
  {
   "cell_type": "code",
   "execution_count": null,
   "metadata": {},
   "outputs": [],
   "source": [
    "crime_df10 = crime_df.Community_Area.value_counts()\n",
    "crime_df10 = crime_df10.head(10)\n",
    "\n",
    "crime_df10 = pd.DataFrame(crime_df10)\n",
    "\n",
    "plt1 = crime_df10.plot(kind=\"bar\", color = \"tomato\")\n",
    "plt1.tick_params(axis=\"x\", labelsize = 10, labelrotation = 90)\n",
    "plt1.set_title(\"Top 10 Communities\")"
   ]
  },
  {
   "cell_type": "markdown",
   "metadata": {},
   "source": [
    "## **Logistic Regression**\n",
    "\n",
    "Logistic regression was performed with an l2 penality and with solver = 'sag' (Stochastic Average Gradient descent), which can minimize the cost function more quickly for large datasets. Predictions were made using One vs One (OVO) multi-classification which compares each pair-wise class. \n",
    "\n",
    "Through 5-cross fold validation with the training set, our average AUC was 0.764. \n",
    "\n",
    "We also print out a classification report from one of the folds which includes the precision, recall, f1-score, and support (# of samples), for each outcome. We see that outcome 4 (X) had the highest recall (0.700), f1-score (0.502). It however, also had the highest number of observations (46,220). Class 0 (X) had the highest precision (0.538), however a very small recall and f1-score (0.007 and 0.014 respectively). These results make more sense in light of the fact that there were < 1000 observations in this class."
   ]
  },
  {
   "cell_type": "markdown",
   "metadata": {},
   "source": [
    "### **Evaluation of Training Data**"
   ]
  },
  {
   "cell_type": "code",
   "execution_count": 24,
   "metadata": {},
   "outputs": [],
   "source": [
    "# reshape data\n",
    "y_train = y_train.reshape(-1)\n",
    "y_test = y_test.reshape(-1)"
   ]
  },
  {
   "cell_type": "code",
   "execution_count": 14,
   "metadata": {},
   "outputs": [
    {
     "name": "stdout",
     "output_type": "stream",
     "text": [
      "across 5 fold cv on trainingset, the model had \n",
      " mean auroc: 0.746 \n",
      " std auroc: 0.001\n",
      "###metrics on provided dataset:###\n",
      "the AUC is: 0.744\n"
     ]
    },
    {
     "name": "stderr",
     "output_type": "stream",
     "text": [
      "C:\\Users\\User\\Anaconda3\\lib\\site-packages\\sklearn\\metrics\\_classification.py:1272: UndefinedMetricWarning: Precision and F-score are ill-defined and being set to 0.0 in labels with no predicted samples. Use `zero_division` parameter to control this behavior.\n",
      "  _warn_prf(average, modifier, msg_start, len(result))\n"
     ]
    },
    {
     "name": "stdout",
     "output_type": "stream",
     "text": [
      "classification report:\n",
      "                precision    recall  f1-score   support\n",
      "\n",
      "           0      0.538     0.007     0.014       970\n",
      "           1      0.125     0.001     0.001      1716\n",
      "           2      0.319     0.627     0.423     37099\n",
      "           3      0.258     0.004     0.007     15445\n",
      "           4      0.392     0.700     0.502     46220\n",
      "           5      0.180     0.086     0.117     19951\n",
      "           6      0.229     0.030     0.053      6733\n",
      "           7      0.262     0.014     0.027     12510\n",
      "           8      0.370     0.400     0.385     10664\n",
      "           9      0.231     0.002     0.003      5990\n",
      "          10      0.000     0.000     0.000      1159\n",
      "          11      0.351     0.014     0.027      5103\n",
      "          12      0.345     0.248     0.288     12815\n",
      "          13      0.435     0.145     0.217      7219\n",
      "          14      0.241     0.010     0.019      4743\n",
      "          15      0.000     0.000     0.000       961\n",
      "          16      0.000     0.000     0.000      1139\n",
      "\n",
      "    accuracy                          0.349    190437\n",
      "   macro avg      0.252     0.135     0.123    190437\n",
      "weighted avg      0.309     0.349     0.271    190437\n",
      "\n"
     ]
    }
   ],
   "source": [
    "lr = LogisticRegression(penalty='l2', solver='sag', random_state = 12345)\n",
    "#fit model\n",
    "lr.fit(X_train, y_train)\n",
    "#evaluate model (on training data)\n",
    "evaluate_model(lr, X_train, y_train, cv = True)"
   ]
  },
  {
   "cell_type": "markdown",
   "metadata": {},
   "source": [
    "### **Evaluation of Testing Data**\n",
    "\n",
    "We obtained a final AUC of 0.738 on the testing set. This result is only slightly lower than the average AUC of the training set described above (0.738 vs 0.746). Similarly as to what was reported above, crime 4 (X) had the highest recall (0.71), while crime 0 (X) had the highest precision. We can see through the classification report that our model has a wide range of performance success/failure depending on the outcome of interst. However, when examining outcome 2, 4, and 8 which had the highest recall scores, we can notice that these classes also had the highest number of samples. Interestingly, class 3 and 5, have the fourth and fifth highest number of samples, however, their recalls are 0.001 and 0.080 respectively. "
   ]
  },
  {
   "cell_type": "code",
   "execution_count": 21,
   "metadata": {},
   "outputs": [
    {
     "name": "stdout",
     "output_type": "stream",
     "text": [
      "###metrics on provided dataset:###\n",
      "the AUC is: 0.738\n",
      "classification report:\n",
      "                precision    recall  f1-score   support\n",
      "\n",
      "           0      0.500     0.009     0.018       323\n",
      "           1      0.200     0.003     0.007       572\n",
      "           2      0.319     0.624     0.422     12367\n",
      "           3      0.092     0.001     0.002      5149\n",
      "           4      0.391     0.701     0.502     15407\n",
      "           5      0.169     0.080     0.109      6651\n",
      "           6      0.160     0.022     0.038      2245\n",
      "           7      0.198     0.010     0.020      4170\n",
      "           8      0.370     0.393     0.381      3555\n",
      "           9      0.100     0.001     0.001      1996\n",
      "          10      0.000     0.000     0.000       386\n",
      "          11      0.258     0.010     0.019      1701\n",
      "          12      0.339     0.249     0.287      4272\n",
      "          13      0.451     0.157     0.233      2406\n",
      "          14      0.304     0.013     0.025      1581\n",
      "          15      0.000     0.000     0.000       320\n",
      "          16      0.000     0.000     0.000       379\n",
      "\n",
      "    accuracy                          0.347     63480\n",
      "   macro avg      0.226     0.134     0.121     63480\n",
      "weighted avg      0.283     0.347     0.269     63480\n",
      "\n"
     ]
    },
    {
     "name": "stderr",
     "output_type": "stream",
     "text": [
      "C:\\Users\\User\\Anaconda3\\lib\\site-packages\\sklearn\\metrics\\_classification.py:1272: UndefinedMetricWarning: Precision and F-score are ill-defined and being set to 0.0 in labels with no predicted samples. Use `zero_division` parameter to control this behavior.\n",
      "  _warn_prf(average, modifier, msg_start, len(result))\n"
     ]
    }
   ],
   "source": [
    "evaluate_model(lr, X_test, y_test, cv = False)"
   ]
  },
  {
   "cell_type": "markdown",
   "metadata": {},
   "source": [
    "## **Random Forest**\n",
    "\n",
    "1. First, we specify a parameter grid where we explore models by changing a number of parameters including:  max_depth, min_samples_split, and min_samples_leaf\n",
    "\n",
    "2. We then instatiate a RandomForestClassifier with criterion 'entropy'\n",
    "\n",
    "3. We can call the previously defined hypertuning_fxn above, and perform 5 cross-fold valdiation on our crime data. Once again we assess classification performing using one-vs-one. "
   ]
  },
  {
   "cell_type": "markdown",
   "metadata": {},
   "source": [
    "**Reshape y data**"
   ]
  },
  {
   "cell_type": "code",
   "execution_count": 114,
   "metadata": {},
   "outputs": [],
   "source": [
    "y_train = y_train.ravel()\n",
    "y_test = y_test.ravel()"
   ]
  },
  {
   "cell_type": "markdown",
   "metadata": {},
   "source": [
    "### **Set Hyperparameters and Run Models**\n",
    "\n",
    "Our hyperparameter searching identified that the best performing model had a cross-validation score of 0.733 and its parameters were set as follows:\n",
    "\n",
    "```max_depth': 10, 'max_features': 'auto', 'min_samples_leaf': 1, 'min_samples_split': 5, 'n_estimators': 100```"
   ]
  },
  {
   "cell_type": "code",
   "execution_count": 30,
   "metadata": {},
   "outputs": [
    {
     "name": "stdout",
     "output_type": "stream",
     "text": [
      " scorer function: roc_auc_ovo_weighted\n",
      " ##### CV performance: mean & sd scores #####\n",
      "best cv score: 0.733\n",
      "best cv params:  {'max_depth': 10, 'max_features': 'auto', 'min_samples_leaf': 1, 'min_samples_split': 5, 'n_estimators': 100}\n",
      "worst cv score: 0.726\n",
      "worst cv params:  {'max_depth': 5, 'max_features': 'auto', 'min_samples_leaf': 5, 'min_samples_split': 2, 'n_estimators': 100}\n",
      "0.726 (+/-0.002) for {'max_depth': 5, 'max_features': 'auto', 'min_samples_leaf': 1, 'min_samples_split': 2, 'n_estimators': 100}\n",
      "0.726 (+/-0.002) for {'max_depth': 5, 'max_features': 'auto', 'min_samples_leaf': 1, 'min_samples_split': 5, 'n_estimators': 100}\n",
      "0.726 (+/-0.002) for {'max_depth': 5, 'max_features': 'auto', 'min_samples_leaf': 1, 'min_samples_split': 10, 'n_estimators': 100}\n",
      "0.726 (+/-0.002) for {'max_depth': 5, 'max_features': 'auto', 'min_samples_leaf': 5, 'min_samples_split': 2, 'n_estimators': 100}\n",
      "0.726 (+/-0.002) for {'max_depth': 5, 'max_features': 'auto', 'min_samples_leaf': 5, 'min_samples_split': 5, 'n_estimators': 100}\n",
      "0.726 (+/-0.002) for {'max_depth': 5, 'max_features': 'auto', 'min_samples_leaf': 5, 'min_samples_split': 10, 'n_estimators': 100}\n",
      "0.726 (+/-0.002) for {'max_depth': 5, 'max_features': 'auto', 'min_samples_leaf': 10, 'min_samples_split': 2, 'n_estimators': 100}\n",
      "0.726 (+/-0.002) for {'max_depth': 5, 'max_features': 'auto', 'min_samples_leaf': 10, 'min_samples_split': 5, 'n_estimators': 100}\n",
      "0.726 (+/-0.002) for {'max_depth': 5, 'max_features': 'auto', 'min_samples_leaf': 10, 'min_samples_split': 10, 'n_estimators': 100}\n",
      "0.732 (+/-0.002) for {'max_depth': 10, 'max_features': 'auto', 'min_samples_leaf': 1, 'min_samples_split': 2, 'n_estimators': 100}\n",
      "0.733 (+/-0.003) for {'max_depth': 10, 'max_features': 'auto', 'min_samples_leaf': 1, 'min_samples_split': 5, 'n_estimators': 100}\n",
      "0.733 (+/-0.002) for {'max_depth': 10, 'max_features': 'auto', 'min_samples_leaf': 1, 'min_samples_split': 10, 'n_estimators': 100}\n",
      "0.732 (+/-0.002) for {'max_depth': 10, 'max_features': 'auto', 'min_samples_leaf': 5, 'min_samples_split': 2, 'n_estimators': 100}\n",
      "0.732 (+/-0.002) for {'max_depth': 10, 'max_features': 'auto', 'min_samples_leaf': 5, 'min_samples_split': 5, 'n_estimators': 100}\n",
      "0.732 (+/-0.002) for {'max_depth': 10, 'max_features': 'auto', 'min_samples_leaf': 5, 'min_samples_split': 10, 'n_estimators': 100}\n",
      "0.732 (+/-0.003) for {'max_depth': 10, 'max_features': 'auto', 'min_samples_leaf': 10, 'min_samples_split': 2, 'n_estimators': 100}\n",
      "0.732 (+/-0.003) for {'max_depth': 10, 'max_features': 'auto', 'min_samples_leaf': 10, 'min_samples_split': 5, 'n_estimators': 100}\n",
      "0.732 (+/-0.003) for {'max_depth': 10, 'max_features': 'auto', 'min_samples_leaf': 10, 'min_samples_split': 10, 'n_estimators': 100}\n"
     ]
    }
   ],
   "source": [
    "# Number of trees in random forest\n",
    "n_estimators = [100]\n",
    "# Number of features to consider at every split\n",
    "max_features = ['auto'] # 'auto' which is equivalent to sqrt(n_features)\n",
    "# Maximum number of levels in tree\n",
    "max_depth = [5, 10]\n",
    "# Minimum number of samples required to split a node\n",
    "min_samples_split = [2, 5, 10]\n",
    "# Minimum number of samples required at each leaf node\n",
    "min_samples_leaf = [1, 5, 10]\n",
    "\n",
    "param_grid = {'n_estimators': n_estimators,\n",
    "               'max_features': max_features,\n",
    "               'max_depth': max_depth,\n",
    "               'min_samples_split': min_samples_split,\n",
    "               'min_samples_leaf': min_samples_leaf}\n",
    "\n",
    "t1 = time.time()\n",
    "\n",
    "model = RandomForestClassifier(criterion='entropy', random_state=12345)\n",
    "rf_hyper = hypertuning_fxn(X_train, y_train, nfolds = 5, model = model , param_grid = param_grid, scoring = 'roc_auc_ovo_weighted', cv = True, return_train_score = True)\n",
    "\n",
    "t2 = time.time()\n",
    "\n",
    "run_time = t1 - t2\n",
    "print('Training Time in Minutes:', run_time/60)"
   ]
  },
  {
   "cell_type": "markdown",
   "metadata": {},
   "source": [
    "### **Return the Best Estimator**"
   ]
  },
  {
   "cell_type": "code",
   "execution_count": 32,
   "metadata": {},
   "outputs": [
    {
     "name": "stdout",
     "output_type": "stream",
     "text": [
      "RandomForestClassifier(bootstrap=True, ccp_alpha=0.0, class_weight=None,\n",
      "                       criterion='entropy', max_depth=10, max_features='auto',\n",
      "                       max_leaf_nodes=None, max_samples=None,\n",
      "                       min_impurity_decrease=0.0, min_impurity_split=None,\n",
      "                       min_samples_leaf=1, min_samples_split=5,\n",
      "                       min_weight_fraction_leaf=0.0, n_estimators=100,\n",
      "                       n_jobs=None, oob_score=False, random_state=12345,\n",
      "                       verbose=0, warm_start=False)\n"
     ]
    }
   ],
   "source": [
    "print(rf_hyper.best_estimator_)\n",
    "rf = rf_hyper.best_estimator_"
   ]
  },
  {
   "cell_type": "markdown",
   "metadata": {},
   "source": [
    "## **Evaluation of Training Data**\n",
    "\n",
    "On our testing set, our best performing random forest model had an AUC of 0.732. Similar to our logistic regression models, class 4 had the highest recall (0.818). Class 8, had a precision of 0.635 and recall of 0.130, despite having a fairly high number of samples (10,664). Class 12 had the highest precision (0.741). Also, noteworthy, the majority of samples had virtually 0 recall and precision."
   ]
  },
  {
   "cell_type": "code",
   "execution_count": 33,
   "metadata": {},
   "outputs": [
    {
     "name": "stdout",
     "output_type": "stream",
     "text": [
      "###metrics on provided dataset:###\n",
      "the AUC is: 0.732\n"
     ]
    },
    {
     "name": "stderr",
     "output_type": "stream",
     "text": [
      "C:\\Users\\User\\Anaconda3\\lib\\site-packages\\sklearn\\metrics\\_classification.py:1272: UndefinedMetricWarning: Precision and F-score are ill-defined and being set to 0.0 in labels with no predicted samples. Use `zero_division` parameter to control this behavior.\n",
      "  _warn_prf(average, modifier, msg_start, len(result))\n"
     ]
    },
    {
     "name": "stdout",
     "output_type": "stream",
     "text": [
      "classification report:\n",
      "                precision    recall  f1-score   support\n",
      "\n",
      "           0      0.000     0.000     0.000       970\n",
      "           1      0.000     0.000     0.000      1716\n",
      "           2      0.304     0.590     0.402     37099\n",
      "           3      0.000     0.000     0.000     15445\n",
      "           4      0.327     0.818     0.467     46220\n",
      "           5      0.000     0.000     0.000     19951\n",
      "           6      0.000     0.000     0.000      6733\n",
      "           7      0.000     0.000     0.000     12510\n",
      "           8      0.635     0.130     0.216     10664\n",
      "           9      0.000     0.000     0.000      5990\n",
      "          10      0.000     0.000     0.000      1159\n",
      "          11      0.000     0.000     0.000      5103\n",
      "          12      0.741     0.026     0.050     12815\n",
      "          13      0.494     0.011     0.022      7219\n",
      "          14      0.000     0.000     0.000      4743\n",
      "          15      0.000     0.000     0.000       961\n",
      "          16      0.000     0.000     0.000      1139\n",
      "\n",
      "    accuracy                          0.323    190437\n",
      "   macro avg      0.147     0.093     0.068    190437\n",
      "weighted avg      0.243     0.323     0.208    190437\n",
      "\n"
     ]
    }
   ],
   "source": [
    "evaluate_model(rf_hyper.best_estimator_, X_train, y_train, cv=False)"
   ]
  },
  {
   "cell_type": "markdown",
   "metadata": {},
   "source": [
    "### **Evaluation of Testing Data**\n",
    "\n",
    "Our best performing random forest classifier achieved an AUC of 0.725 on the testing set. Comparing evaluation on the training and testing sets, we can see that our results are fairly similar. "
   ]
  },
  {
   "cell_type": "code",
   "execution_count": 34,
   "metadata": {},
   "outputs": [
    {
     "name": "stdout",
     "output_type": "stream",
     "text": [
      "###metrics on provided dataset:###\n",
      "the AUC is: 0.725\n",
      "classification report:\n",
      "                precision    recall  f1-score   support\n",
      "\n",
      "           0      0.000     0.000     0.000       323\n",
      "           1      0.000     0.000     0.000       572\n",
      "           2      0.303     0.586     0.399     12367\n",
      "           3      0.000     0.000     0.000      5149\n",
      "           4      0.327     0.820     0.468     15407\n",
      "           5      0.000     0.000     0.000      6651\n",
      "           6      0.000     0.000     0.000      2245\n",
      "           7      0.000     0.000     0.000      4170\n",
      "           8      0.664     0.138     0.228      3555\n",
      "           9      0.000     0.000     0.000      1996\n",
      "          10      0.000     0.000     0.000       386\n",
      "          11      0.000     0.000     0.000      1701\n",
      "          12      0.726     0.029     0.055      4272\n",
      "          13      0.488     0.009     0.017      2406\n",
      "          14      0.000     0.000     0.000      1581\n",
      "          15      0.000     0.000     0.000       320\n",
      "          16      0.000     0.000     0.000       379\n",
      "\n",
      "    accuracy                          0.323     63480\n",
      "   macro avg      0.148     0.093     0.069     63480\n",
      "weighted avg      0.243     0.323     0.208     63480\n",
      "\n"
     ]
    },
    {
     "name": "stderr",
     "output_type": "stream",
     "text": [
      "C:\\Users\\User\\Anaconda3\\lib\\site-packages\\sklearn\\metrics\\_classification.py:1272: UndefinedMetricWarning: Precision and F-score are ill-defined and being set to 0.0 in labels with no predicted samples. Use `zero_division` parameter to control this behavior.\n",
      "  _warn_prf(average, modifier, msg_start, len(result))\n"
     ]
    }
   ],
   "source": [
    "evaluate_model(rf_hyper.best_estimator_, X_test, y_test, cv = False)"
   ]
  },
  {
   "cell_type": "markdown",
   "metadata": {},
   "source": [
    "### **Feature Importance**"
   ]
  },
  {
   "cell_type": "code",
   "execution_count": 109,
   "metadata": {},
   "outputs": [
    {
     "data": {
      "text/plain": [
       "<matplotlib.axes._subplots.AxesSubplot at 0x1cf8ca028d0>"
      ]
     },
     "execution_count": 109,
     "metadata": {},
     "output_type": "execute_result"
    },
    {
     "data": {
      "image/png": "[encoded data removed]",
      "text/plain": [
       "<Figure size 432x288 with 1 Axes>"
      ]
     },
     "metadata": {
      "needs_background": "light"
     },
     "output_type": "display_data"
    }
   ],
   "source": [
    "# create empty list\n",
    "feat_impts = [] \n",
    "# bind all rf estimators for each classifier \n",
    "for clf in rf_hyper.best_estimator_:\n",
    "    feat_impts.append(clf.feature_importances_)\n",
    "\n",
    "# calculate the mean of features across predictors\n",
    "feat = np.mean(feat_impts, axis=0)\n",
    "# create a list of features (predictor names)\n",
    "features = crime_x_col_names\n",
    "# add predictor names to the means\n",
    "feat_importances = pd.Series(feat, index = features)   \n",
    "\n",
    "# plot feature importance for nlargest means \n",
    "feat_importances.nlargest(10).plot(kind='barh')"
   ]
  },
  {
   "cell_type": "markdown",
   "metadata": {},
   "source": [
    "# Deep Learning"
   ]
  },
  {
   "cell_type": "markdown",
   "metadata": {},
   "source": [
    "### **Data Pre-processing for Neural Network**"
   ]
  },
  {
   "cell_type": "code",
   "execution_count": 93,
   "metadata": {},
   "outputs": [],
   "source": [
    "# Create a tensor from Numpy array\n",
    "xb = torch.from_numpy(X_train).double()\n",
    "yb = torch.from_numpy(y_train).double()\n",
    "trainloader = TensorDataset(xb, yb)"
   ]
  },
  {
   "cell_type": "markdown",
   "metadata": {},
   "source": [
    "### **Define Neural Network Architecture**"
   ]
  },
  {
   "cell_type": "code",
   "execution_count": 94,
   "metadata": {},
   "outputs": [],
   "source": [
    "nn_model = nn.Sequential(nn.Linear(210, 100),\n",
    "                          nn.ReLU(),\n",
    "                          nn.Linear(100, 50), \n",
    "                          nn.ReLU(), \n",
    "                          nn.Linear(50, 17))"
   ]
  },
  {
   "cell_type": "markdown",
   "metadata": {},
   "source": [
    "### **Set Neural Network Hyper-parameters**"
   ]
  },
  {
   "cell_type": "code",
   "execution_count": 95,
   "metadata": {},
   "outputs": [],
   "source": [
    "batch_size = 10\n",
    "learning_rate = 0.01\n",
    "optimizer = optim.SGD(nn_model.parameters(), lr = learning_rate)\n",
    "criterion = nn.CrossEntropyLoss()\n",
    "n_epochs = 100\n",
    "trainloader = torch.utils.data.DataLoader(trainloader, batch_size, shuffle = True)"
   ]
  },
  {
   "cell_type": "markdown",
   "metadata": {},
   "source": [
    "### **Evaluation of Training Data**"
   ]
  },
  {
   "cell_type": "code",
   "execution_count": 96,
   "metadata": {},
   "outputs": [
    {
     "name": "stdout",
     "output_type": "stream",
     "text": [
      "Epoch 1/100, Training loss: 2.17560\n",
      "Epoch 2/100, Training loss: 2.02907\n",
      "Epoch 3/100, Training loss: 2.00687\n",
      "Epoch 4/100, Training loss: 1.99680\n",
      "Epoch 5/100, Training loss: 1.98991\n",
      "Epoch 6/100, Training loss: 1.98465\n",
      "Epoch 7/100, Training loss: 1.98012\n",
      "Epoch 8/100, Training loss: 1.97666\n",
      "Epoch 9/100, Training loss: 1.97359\n",
      "Epoch 10/100, Training loss: 1.97093\n",
      "Epoch 11/100, Training loss: 1.96868\n",
      "Epoch 12/100, Training loss: 1.96705\n",
      "Epoch 13/100, Training loss: 1.96491\n",
      "Epoch 14/100, Training loss: 1.96348\n",
      "Epoch 15/100, Training loss: 1.96184\n",
      "Epoch 16/100, Training loss: 1.96074\n",
      "Epoch 17/100, Training loss: 1.95957\n",
      "Epoch 18/100, Training loss: 1.95847\n",
      "Epoch 19/100, Training loss: 1.95714\n",
      "Epoch 20/100, Training loss: 1.95622\n",
      "Epoch 21/100, Training loss: 1.95528\n",
      "Epoch 22/100, Training loss: 1.95447\n",
      "Epoch 23/100, Training loss: 1.95333\n",
      "Epoch 24/100, Training loss: 1.95250\n",
      "Epoch 25/100, Training loss: 1.95150\n",
      "Epoch 26/100, Training loss: 1.95077\n",
      "Epoch 27/100, Training loss: 1.95000\n",
      "Epoch 28/100, Training loss: 1.94959\n",
      "Epoch 29/100, Training loss: 1.94859\n",
      "Epoch 30/100, Training loss: 1.94805\n",
      "Epoch 31/100, Training loss: 1.94735\n",
      "Epoch 32/100, Training loss: 1.94668\n",
      "Epoch 33/100, Training loss: 1.94628\n",
      "Epoch 34/100, Training loss: 1.94546\n",
      "Epoch 35/100, Training loss: 1.94497\n",
      "Epoch 36/100, Training loss: 1.94416\n",
      "Epoch 37/100, Training loss: 1.94369\n",
      "Epoch 38/100, Training loss: 1.94313\n",
      "Epoch 39/100, Training loss: 1.94282\n",
      "Epoch 40/100, Training loss: 1.94220\n",
      "Epoch 41/100, Training loss: 1.94178\n",
      "Epoch 42/100, Training loss: 1.94097\n",
      "Epoch 43/100, Training loss: 1.94104\n",
      "Epoch 44/100, Training loss: 1.94033\n",
      "Epoch 45/100, Training loss: 1.93973\n",
      "Epoch 46/100, Training loss: 1.93936\n",
      "Epoch 47/100, Training loss: 1.93867\n",
      "Epoch 48/100, Training loss: 1.93848\n",
      "Epoch 49/100, Training loss: 1.93811\n",
      "Epoch 50/100, Training loss: 1.93783\n",
      "Epoch 51/100, Training loss: 1.93698\n",
      "Epoch 52/100, Training loss: 1.93678\n",
      "Epoch 53/100, Training loss: 1.93633\n",
      "Epoch 54/100, Training loss: 1.93586\n",
      "Epoch 55/100, Training loss: 1.93542\n",
      "Epoch 56/100, Training loss: 1.93537\n",
      "Epoch 57/100, Training loss: 1.93468\n",
      "Epoch 58/100, Training loss: 1.93453\n",
      "Epoch 59/100, Training loss: 1.93411\n",
      "Epoch 60/100, Training loss: 1.93377\n",
      "Epoch 61/100, Training loss: 1.93330\n",
      "Epoch 62/100, Training loss: 1.93284\n",
      "Epoch 63/100, Training loss: 1.93269\n",
      "Epoch 64/100, Training loss: 1.93211\n",
      "Epoch 65/100, Training loss: 1.93177\n",
      "Epoch 66/100, Training loss: 1.93156\n",
      "Epoch 67/100, Training loss: 1.93132\n",
      "Epoch 68/100, Training loss: 1.93068\n",
      "Epoch 69/100, Training loss: 1.93062\n",
      "Epoch 70/100, Training loss: 1.92994\n",
      "Epoch 71/100, Training loss: 1.92977\n",
      "Epoch 72/100, Training loss: 1.92949\n",
      "Epoch 73/100, Training loss: 1.92923\n",
      "Epoch 74/100, Training loss: 1.92898\n",
      "Epoch 75/100, Training loss: 1.92845\n",
      "Epoch 76/100, Training loss: 1.92807\n",
      "Epoch 77/100, Training loss: 1.92802\n",
      "Epoch 78/100, Training loss: 1.92793\n",
      "Epoch 79/100, Training loss: 1.92743\n",
      "Epoch 80/100, Training loss: 1.92712\n",
      "Epoch 81/100, Training loss: 1.92705\n",
      "Epoch 82/100, Training loss: 1.92658\n",
      "Epoch 83/100, Training loss: 1.92617\n",
      "Epoch 84/100, Training loss: 1.92621\n",
      "Epoch 85/100, Training loss: 1.92568\n",
      "Epoch 86/100, Training loss: 1.92524\n",
      "Epoch 87/100, Training loss: 1.92560\n",
      "Epoch 88/100, Training loss: 1.92476\n",
      "Epoch 89/100, Training loss: 1.92479\n",
      "Epoch 90/100, Training loss: 1.92471\n",
      "Epoch 91/100, Training loss: 1.92401\n",
      "Epoch 92/100, Training loss: 1.92361\n",
      "Epoch 93/100, Training loss: 1.92376\n",
      "Epoch 94/100, Training loss: 1.92350\n",
      "Epoch 95/100, Training loss: 1.92337\n",
      "Epoch 96/100, Training loss: 1.92294\n",
      "Epoch 97/100, Training loss: 1.92262\n",
      "Epoch 98/100, Training loss: 1.92244\n",
      "Epoch 99/100, Training loss: 1.92235\n",
      "Epoch 100/100, Training loss: 1.92191\n",
      "Train Loss (mean) 1.9450190921158201\n",
      "Train Accuracy 35.362323341434895\n",
      "Training time in minutes: -134.94674048026403\n"
     ]
    }
   ],
   "source": [
    "t1 = time.time()\n",
    "\n",
    "# store running loss\n",
    "total_step = len(trainloader)\n",
    "loss_list = []\n",
    "acc_list = []\n",
    "running_loss_res = []\n",
    "\n",
    "for e in range(n_epochs):\n",
    "    # Define running loss as 0\n",
    "    running_loss = 0\n",
    "\n",
    "    # Run the model for each xb, yb in the trainloader.  \n",
    "    for i, (xb, yb) in enumerate(trainloader):\n",
    "        # clear gradients - otherwise they are stored\n",
    "        optimizer.zero_grad()\n",
    "        # Training pass\n",
    "        output = nn_model.forward(xb)\n",
    "        # caluclate loss calculated from the model output compared to the labels\n",
    "        loss = criterion(output, yb.long()) \n",
    "        # backpropagate the loss\n",
    "        loss.backward()\n",
    "        # step function to update the weights\n",
    "        optimizer.step()\n",
    "        # record losses\n",
    "        loss_list.append(loss.item()) \n",
    "        \n",
    "        # Track the accuracy\n",
    "        total = yb.size(0)\n",
    "        _, predicted = torch.max(output.data, 1)\n",
    "        correct = (predicted == yb).sum().item()\n",
    "        acc_list.append((correct /total)*100)\n",
    "\n",
    "        running_loss += loss.item() # loss.item() gets the scalar value held in the loss. \n",
    "        # += function: Adds the running_loss (0) with loss.item and assigns back to running_loss\n",
    "    else:\n",
    "        print(\"Epoch {}/{}, Training loss: {:.5f}\".format(e+1, n_epochs, running_loss/len(trainloader)))\n",
    "        \n",
    "        # append all running_losses\n",
    "        running_loss_res.append(running_loss/len(trainloader))\n",
    "        \n",
    "        \n",
    "t2 = time.time()\n",
    "run_time = t1-t2\n",
    "\n",
    "train_loss = np.mean(running_loss_res)\n",
    "train_accuracy = np.mean(acc_list)\n",
    "\n",
    "print('Train Loss (mean)', train_loss)\n",
    "print('Train Accuracy', train_accuracy)\n",
    "print('Training time in minutes:', run_time/60)"
   ]
  },
  {
   "cell_type": "markdown",
   "metadata": {},
   "source": [
    "### **Plot Training Loss and Accuracy Over Time**"
   ]
  },
  {
   "cell_type": "code",
   "execution_count": 98,
   "metadata": {},
   "outputs": [
    {
     "data": {
      "text/plain": [
       "[<matplotlib.lines.Line2D at 0x1cfc9aa89e8>]"
      ]
     },
     "execution_count": 98,
     "metadata": {},
     "output_type": "execute_result"
    },
    {
     "data": {
      "image/png": "[encoded data removed]",
      "text/plain": [
       "<Figure size 432x288 with 1 Axes>"
      ]
     },
     "metadata": {
      "needs_background": "light"
     },
     "output_type": "display_data"
    }
   ],
   "source": [
    "%matplotlib inline\n",
    "\n",
    "test = list(range(100)) # number of epochs\n",
    "plt.plot(test, running_loss_res)"
   ]
  },
  {
   "cell_type": "markdown",
   "metadata": {},
   "source": [
    "## **Evaluate the Testing Data**"
   ]
  },
  {
   "cell_type": "code",
   "execution_count": 116,
   "metadata": {},
   "outputs": [
    {
     "name": "stdout",
     "output_type": "stream",
     "text": [
      "Testing Accuracy: 34.790485192186516\n"
     ]
    }
   ],
   "source": [
    "# Convert arrays into tensors\n",
    "xb = torch.from_numpy(X_test).double()\n",
    "yb = torch.from_numpy(y_test).double()\n",
    "\n",
    "# Apply the model to the testing dataset\n",
    "# Thus will enable us to see the predictions for each class\n",
    "ps = nn_model(xb)\n",
    "\n",
    "# Obtain the top prediction\n",
    "top_p, top_class = ps.topk(1, dim=1)\n",
    "\n",
    "# Drop the grad by using detach\n",
    "top_p = top_p.detach().numpy()\n",
    "top_class = top_class.detach().numpy()\n",
    "\n",
    "yb = yb.reshape(-1,1)\n",
    "\n",
    "# convert to integers\n",
    "top_class = top_class.astype(np.int)\n",
    "\n",
    "# convert to dataframe\n",
    "top_class = pd.DataFrame(top_class)\n",
    "yb = np.asarray(yb)\n",
    "yb = pd.DataFrame(yb)\n",
    "\n",
    "# change column names\n",
    "top_class.columns = [\"Predicted\"]\n",
    "yb.columns = [\"True Label\"]\n",
    "\n",
    "results = pd.merge(top_class, yb, left_index=True, right_index=True)\n",
    "\n",
    "results['Accurate'] = np.where(results['Predicted']==results['True Label'], 1, 0)\n",
    "\n",
    "print('Testing Accuracy:', sum(results.Accurate)/len(results)*100)"
   ]
  },
  {
   "cell_type": "code",
   "execution_count": 105,
   "metadata": {},
   "outputs": [
    {
     "data": {
      "text/plain": [
       "(63480,)"
      ]
     },
     "execution_count": 105,
     "metadata": {},
     "output_type": "execute_result"
    }
   ],
   "source": [
    "y_test.shape"
   ]
  },
  {
   "cell_type": "markdown",
   "metadata": {},
   "source": [
    "# K-Nearest-Neighbors"
   ]
  },
  {
   "cell_type": "code",
   "execution_count": null,
   "metadata": {},
   "outputs": [],
   "source": [
    "# two neighbors will bring the point itself, and then its next nearest neighbor\n",
    "neighbors = NearestNeighbors(n_neighbors = 2).fit()\n",
    "\n",
    "print(neighbors.head(10))\n",
    "\n",
    "# rebind the true labels for the test sets\n",
    "# convert list to dataframe?\n",
    "#neigh_df = pd.DataFrame(n)"
   ]
  },
  {
   "cell_type": "markdown",
   "metadata": {},
   "source": [
    "# K-means Clustering"
   ]
  },
  {
   "cell_type": "markdown",
   "metadata": {},
   "source": [
    "### **Cluster by Crime**"
   ]
  },
  {
   "cell_type": "code",
   "execution_count": null,
   "metadata": {},
   "outputs": [],
   "source": [
    "from sklearn.cluster import KMeans\n",
    "from sklearn.metrics import adjusted_mutual_info_score\n",
    "\n",
    "kmeans = KMeans(n_clusters = 17, init= 'k-means++', n_init = 10, random_state=0)\n",
    "kmeans.fit(X_train)\n",
    "k_labs = kmeans.labels_\n",
    "preds = kmeans.predict(X_test)\n",
    "\n",
    "print(adjusted_mutual_info(preds, y_test))"
   ]
  },
  {
   "cell_type": "markdown",
   "metadata": {},
   "source": [
    "### **Cluster by Location**"
   ]
  },
  {
   "cell_type": "code",
   "execution_count": null,
   "metadata": {},
   "outputs": [],
   "source": [
    "kmeans = KMeans(n_clusters = 17, init= 'k-means++', n_init = 10, random_state=0)\n",
    "kmeans.fit(X_train)\n",
    "k_labs = kmeans.labels_\n",
    "preds = kmeans.predict(X_test)\n",
    "\n",
    "print(adjusted_mutual_info(preds, y_test))"
   ]
  },
  {
   "cell_type": "markdown",
   "metadata": {},
   "source": [
    "# Conclusions\n",
    "\n",
    "In our analysis we found....\n",
    "\n",
    "Compare all results...can I make a nice table with these even if I import it into the notebook?\n",
    "\n",
    "**Maybe re-look at primary type description?**"
   ]
  },
  {
   "cell_type": "markdown",
   "metadata": {},
   "source": [
    "## Potential Impact\n",
    "\n",
    "This analysis benefits our understanding of where crimes are most likely to occur. Results from predictive models that can analyze data retrospectively, can be later used to prospectively motitor high-risk locations for specific crimes and faciliate implementation of protective measures. "
   ]
  },
  {
   "cell_type": "markdown",
   "metadata": {},
   "source": [
    "## Limitations\n",
    "\n",
    "This analysis only analyzes crimes that occured in 2019, however, the full dataset includes crimes from 2001-Present. Thus, while our analysis may be more representative due to recent crimes, it is likely that our model would improve by including more data from past years. Additionally, this analysis did little hyperparameter tuning and thus, while our models were fairly strong, it is likely that may improve with more rigourous testing. "
   ]
  },
  {
   "cell_type": "markdown",
   "metadata": {},
   "source": [
    "## Next Steps\n",
    "\n",
    "* Analyze.Explore data from 2001 onwards \n",
    "    - Can research the implementation of parallel processing to speed up data pre-processing and analysis\n",
    "* Evaluate models after rigourous hyperparameter tuning\n",
    "* Use machine and deep learning methods to identify which crimes/locations are harder to predict\n",
    "* Utalizing advanced neural network models such as Recurrent Neural Networks that can better delineate the trajectory of certain crimes overtime and perhaps seasonally, ie: is theft more likely to occur in winter months?"
   ]
  }
 ],
 "metadata": {
  "kernelspec": {
   "display_name": "Python 3",
   "language": "python",
   "name": "python3"
  },
  "language_info": {
   "codemirror_mode": {
    "name": "ipython",
    "version": 3
   },
   "file_extension": ".py",
   "mimetype": "text/x-python",
   "name": "python",
   "nbconvert_exporter": "python",
   "pygments_lexer": "ipython3",
   "version": "3.7.1"
  }
 },
 "nbformat": 4,
 "nbformat_minor": 4
}
